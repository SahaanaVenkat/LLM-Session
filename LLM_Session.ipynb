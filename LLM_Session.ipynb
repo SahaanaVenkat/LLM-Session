{
 "cells": [
  {
   "cell_type": "markdown",
   "id": "ad5dd196",
   "metadata": {},
   "source": [
    "✅ What is a pipeline in Hugging Face?\n",
    "The pipeline is a high-level API provided by Hugging Face’s 🤗 transformers library.\n",
    "\n",
    "It’s a ready-to-use abstraction that:\n",
    "\n",
    "Loads a model,\n",
    "\n",
    "Preprocesses your input,\n",
    "\n",
    "Runs inference,\n",
    "\n",
    "Postprocesses the output...\n",
    "✅ All with just one line of code."
   ]
  },
  {
   "cell_type": "markdown",
   "id": "0e6e5282",
   "metadata": {},
   "source": [
    "🧠 Analogy:\n",
    "Think of a pipeline as a smart chatbot helper:\n",
    "\n",
    "You just say: “Translate this” or “Summarize this,”\n",
    "and it automatically knows:\n",
    "\n",
    "Which model to use\n",
    "\n",
    "How to tokenize (preprocess)\n",
    "\n",
    "How to run the model\n",
    "\n",
    "How to decode the output\n",
    "\n"
   ]
  },
  {
   "cell_type": "markdown",
   "id": "f44fe6bc",
   "metadata": {
    "vscode": {
     "languageId": "plaintext"
    }
   },
   "source": [
    "✅ Why Use pipeline?"
   ]
  },
  {
   "cell_type": "markdown",
   "id": "5ffc3ea4",
   "metadata": {},
   "source": [
    "| Without pipeline                                             | With pipeline                          |\n",
    "| ------------------------------------------------------------ | -------------------------------------- |\n",
    "| You must manually load model, tokenizer, run inference, etc. | Everything handled automatically       |\n",
    "| More flexibility, more code                                  | Easier and faster for standard tasks   |\n",
    "| Great for customization                                      | Great for productivity and prototyping |\n"
   ]
  },
  {
   "cell_type": "markdown",
   "id": "2b8dc7e1",
   "metadata": {},
   "source": [
    "✅ Types of Pipelines\n",
    "You can instantiate pipelines for many built-in tasks, e.g.:\n",
    "\n",
    "\n",
    "pipeline(\"text-classification\")\\\n",
    "pipeline(\"summarization\")\\\n",
    "pipeline(\"translation_en_to_fr\")\\\n",
    "pipeline(\"question-answering\")\\\n",
    "pipeline(\"fill-mask\")\\\n",
    "pipeline(\"feature-extraction\")\\\n",
    "pipeline(\"zero-shot-classification\")\\\n",
    "pipeline(\"text-generation\")\\\n",
    "Each one has:\n",
    "\n",
    "A default model (can be overridden)\n",
    "\n",
    "A custom tokenizer\n",
    "\n",
    "A preprocessing + postprocessing wrapper"
   ]
  },
  {
   "cell_type": "code",
   "execution_count": 1,
   "id": "4163c409",
   "metadata": {},
   "outputs": [],
   "source": [
    "from transformers import pipeline\n",
    "\n",
    "pipe = pipeline(\"text-generation\", model=\"openai-community/gpt2\")"
   ]
  },
  {
   "cell_type": "code",
   "execution_count": 2,
   "id": "5caf7955",
   "metadata": {},
   "outputs": [
    {
     "name": "stderr",
     "output_type": "stream",
     "text": [
      "Truncation was not explicitly activated but `max_length` is provided a specific value, please use `truncation=True` to explicitly truncate examples to max length. Defaulting to 'longest_first' truncation strategy. If you encode pairs of sequences (GLUE-style) with the tokenizer you can select this strategy more precisely by providing a specific strategy to `truncation`.\n",
      "Setting `pad_token_id` to `eos_token_id`:None for open-end generation.\n"
     ]
    },
    {
     "name": "stdout",
     "output_type": "stream",
     "text": [
      "Once upon a time, you have had access to a game that had been cut with a feature called \"The Final Quest\". You are now forced to navigate through a completely new world, and each new adventure was created by a different team from around Europe\n"
     ]
    }
   ],
   "source": [
    "# Generate text\n",
    "prompt = \"Once upon a time\"\n",
    "result = pipe(prompt, max_length=50, num_return_sequences=1)\n",
    "\n",
    "print(result[0]['generated_text'])"
   ]
  },
  {
   "cell_type": "markdown",
   "id": "9a3eb7be",
   "metadata": {},
   "source": [
    "Here's a clear explanation of each task you've listed — **all are common NLP (Natural Language Processing) tasks that LLMs (like GPT, Mistral, BERT, etc.) are capable of performing**, especially using Hugging Face pipelines or LangChain chains.\n",
    "\n",
    "---\n",
    "\n",
    "### ✅ 1. **Text Classification**\n",
    "\n",
    "* **What it does**: Assigns labels to entire texts (e.g., sentiment analysis, topic detection).\n",
    "* **Example**:\n",
    "  Input: *\"This product is amazing!\"*\n",
    "  Output: `label: positive`\n",
    "\n",
    "---\n",
    "\n",
    "### ✅ 2. **Token Classification**\n",
    "\n",
    "* **What it does**: Labels each **token** (word/subword) in the input.\n",
    "* **Used for**: Named Entity Recognition (NER), Part-of-Speech tagging.\n",
    "* **Example**:\n",
    "  Input: *\"Elon Musk founded SpaceX.\"*\n",
    "  Output: `Elon Musk → PERSON`, `SpaceX → ORG`\n",
    "\n",
    "---\n",
    "\n",
    "### ✅ 3. **Table Question Answering**\n",
    "\n",
    "* **What it does**: Answers questions based on **tabular data** (structured rows/columns).\n",
    "* **Example**:\n",
    "  Table: Employee salary table\n",
    "  Question: *\"Who earns the highest salary?\"*\n",
    "  Output: `\"Alice Johnson\"`\n",
    "\n",
    "---\n",
    "\n",
    "### ✅ 4. **Question Answering**\n",
    "\n",
    "* **What it does**: Extracts answers from **contextual paragraphs**.\n",
    "* **Example**:\n",
    "  Context: *\"Paris is the capital of France.\"*\n",
    "  Question: *\"What is the capital of France?\"*\n",
    "  Output: `\"Paris\"`\n",
    "\n",
    "---\n",
    "\n",
    "### ✅ 5. **Zero-Shot Classification**\n",
    "\n",
    "* **What it does**: Classifies text into user-defined categories **without any fine-tuning**.\n",
    "* **Example**:\n",
    "  Input: *\"I love designing apps.\"*\n",
    "  Labels: `[\"tech\", \"sports\", \"politics\"]`\n",
    "  Output: `label: tech (confidence: 0.94)`\n",
    "\n",
    "---\n",
    "\n",
    "### ✅ 6. **Translation**\n",
    "\n",
    "* **What it does**: Translates text between languages.\n",
    "* **Example**:\n",
    "  Input: *\"Bonjour tout le monde\"*\n",
    "  Output: `\"Hello everyone\"`\n",
    "\n",
    "---\n",
    "\n",
    "### ✅ 7. **Summarization**\n",
    "\n",
    "* **What it does**: Compresses long text into a shorter summary while preserving key meaning.\n",
    "* **Example**:\n",
    "  Input: A 3-paragraph news article\n",
    "  Output: `\"NASA announced a new space telescope.\"`\n",
    "\n",
    "---\n",
    "\n",
    "### ✅ 8. **Feature Extraction**\n",
    "\n",
    "* **What it does**: Converts text into a **numerical embedding** (vector).\n",
    "* **Used in**: RAG, search, clustering, recommendation.\n",
    "* **Example**:\n",
    "  Input: *\"How to bake a cake?\"*\n",
    "  Output: `[0.123, 0.434, -0.999, ...]`\n",
    "\n",
    "---\n",
    "\n",
    "### ✅ 9. **Text Generation**\n",
    "\n",
    "* **What it does**: Autocompletes or continues a piece of text.\n",
    "* **Example**:\n",
    "  Prompt: *\"Once upon a time,\"*\n",
    "  Output: *\"there was a brave knight who fought dragons.\"*\n",
    "\n",
    "---\n",
    "\n",
    "### ✅ 10. **Text2Text Generation**\n",
    "\n",
    "* **What it does**: Transforms input into new text (paraphrasing, summarizing, Q\\&A, etc.)\n",
    "* **Common with**: T5, FLAN-T5, BART.\n",
    "* **Example**:\n",
    "  Input: *\"Translate English to French: Hello.\"*\n",
    "  Output: `\"Bonjour\"`\n",
    "\n",
    "---\n",
    "\n",
    "### ✅ 11. **Fill-Mask**\n",
    "\n",
    "* **What it does**: Predicts masked words in a sentence.\n",
    "* **Used for**: Cloze tests, sentence completion.\n",
    "* **Example**:\n",
    "  Input: *\"The capital of France is `<mask>`.\"*\n",
    "  Output: `\"Paris\"`\n",
    "\n",
    "---\n",
    "\n",
    "### ✅ 12. **Sentence Similarity**\n",
    "\n",
    "* **What it does**: Measures how semantically similar two sentences are.\n",
    "* **Used for**: Plagiarism detection, duplicate questions, search ranking.\n",
    "* **Example**:\n",
    "  Sentence A: *\"How do I cook pasta?\"*\n",
    "  Sentence B: *\"What's the process for making spaghetti?\"*\n",
    "  Output: `Similarity score: 0.89`\n",
    "\n",
    "---\n",
    "\n",
    "### ✅ 13. **Text Ranking**\n",
    "\n",
    "* **What it does**: Ranks multiple candidate texts based on relevance to a query.\n",
    "* **Used in**: Search engines, document retrieval, rerankers in RAG.\n",
    "* **Example**:\n",
    "  Query: *\"What is BERT?\"*\n",
    "  Candidates:\n",
    "\n",
    "  1. Article on transformers\n",
    "  2. Blog about BERT\n",
    "  3. Ad for kitchen appliances\n",
    "     Output: `Rank: [2, 1, 3]`\n",
    "\n",
    "---\n",
    "\n",
    "## 🔍 Summary Table\n",
    "\n",
    "| Task                     | Granularity     | Use Case                               |\n",
    "| ------------------------ | --------------- | -------------------------------------- |\n",
    "| Text Classification      | Full text       | Sentiment, topics                      |\n",
    "| Token Classification     | Word-level      | NER, POS tagging                       |\n",
    "| Table QA                 | Structured data | QA over Excel/CSV-like data            |\n",
    "| Question Answering       | Paragraph       | SQuAD-style QA                         |\n",
    "| Zero-Shot Classification | Any             | Classification with no labeled data    |\n",
    "| Translation              | Sentence        | Multilingual applications              |\n",
    "| Summarization            | Paragraph       | Article or report compression          |\n",
    "| Feature Extraction       | Sentence/vector | Embeddings for ML, RAG                 |\n",
    "| Text Generation          | Open-ended      | Creative or structured text generation |\n",
    "| Text2Text Generation     | Input-to-output | QA, translation, summarization, etc.   |\n",
    "| Fill-Mask                | Word-level      | Completion or correction               |\n",
    "| Sentence Similarity      | Sentence pairs  | Duplicate detection, ranking           |\n",
    "| Text Ranking             | Query + docs    | Search result reranking                |\n",
    "\n",
    "---\n",
    "\n",
    "Would you like me to generate **code examples** (using Hugging Face or LangChain) for any of these tasks?\n"
   ]
  },
  {
   "cell_type": "code",
   "execution_count": 3,
   "id": "56f77cff",
   "metadata": {},
   "outputs": [
    {
     "name": "stdout",
     "output_type": "stream",
     "text": [
      "[{'label': 'POSITIVE', 'score': 0.999883770942688}]\n"
     ]
    }
   ],
   "source": [
    "## text classification\n",
    "from transformers import pipeline\n",
    "\n",
    "classifier = pipeline(\"text-classification\",model=\"distilbert/distilbert-base-uncased-finetuned-sst-2-english\")\n",
    "result = classifier(\"I love this phone! It's amazing.\")\n",
    "print(result)\n"
   ]
  },
  {
   "cell_type": "code",
   "execution_count": 4,
   "id": "9c53c4bb",
   "metadata": {},
   "outputs": [
    {
     "data": {
      "application/vnd.jupyter.widget-view+json": {
       "model_id": "9b86b76f51d54d21a0ba17bebc238c91",
       "version_major": 2,
       "version_minor": 0
      },
      "text/plain": [
       "config.json:   0%|          | 0.00/829 [00:00<?, ?B/s]"
      ]
     },
     "metadata": {},
     "output_type": "display_data"
    },
    {
     "name": "stderr",
     "output_type": "stream",
     "text": [
      "c:\\Users\\SV937CY\\bias_1\\Lib\\site-packages\\huggingface_hub\\file_download.py:139: UserWarning: `huggingface_hub` cache-system uses symlinks by default to efficiently store duplicated files but your machine does not support them in C:\\Users\\SV937CY\\.cache\\huggingface\\hub\\models--dslim--bert-base-NER. Caching files will still work but in a degraded version that might require more space on your disk. This warning can be disabled by setting the `HF_HUB_DISABLE_SYMLINKS_WARNING` environment variable. For more details, see https://huggingface.co/docs/huggingface_hub/how-to-cache#limitations.\n",
      "To support symlinks on Windows, you either need to activate Developer Mode or to run Python as an administrator. In order to activate developer mode, see this article: https://docs.microsoft.com/en-us/windows/apps/get-started/enable-your-device-for-development\n",
      "  warnings.warn(message)\n"
     ]
    },
    {
     "data": {
      "application/vnd.jupyter.widget-view+json": {
       "model_id": "a733ce2f51a147879c363b30fe81defc",
       "version_major": 2,
       "version_minor": 0
      },
      "text/plain": [
       "model.safetensors:   0%|          | 0.00/433M [00:00<?, ?B/s]"
      ]
     },
     "metadata": {},
     "output_type": "display_data"
    },
    {
     "name": "stderr",
     "output_type": "stream",
     "text": [
      "Some weights of the model checkpoint at dslim/bert-base-NER were not used when initializing BertForTokenClassification: ['bert.pooler.dense.bias', 'bert.pooler.dense.weight']\n",
      "- This IS expected if you are initializing BertForTokenClassification from the checkpoint of a model trained on another task or with another architecture (e.g. initializing a BertForSequenceClassification model from a BertForPreTraining model).\n",
      "- This IS NOT expected if you are initializing BertForTokenClassification from the checkpoint of a model that you expect to be exactly identical (initializing a BertForSequenceClassification model from a BertForSequenceClassification model).\n"
     ]
    },
    {
     "data": {
      "application/vnd.jupyter.widget-view+json": {
       "model_id": "25e5da4d74f04edda7d8ef1cc8d21c4f",
       "version_major": 2,
       "version_minor": 0
      },
      "text/plain": [
       "tokenizer_config.json:   0%|          | 0.00/59.0 [00:00<?, ?B/s]"
      ]
     },
     "metadata": {},
     "output_type": "display_data"
    },
    {
     "data": {
      "application/vnd.jupyter.widget-view+json": {
       "model_id": "23e89d52f1d64f3db0f3e2774720deb9",
       "version_major": 2,
       "version_minor": 0
      },
      "text/plain": [
       "vocab.txt: 0.00B [00:00, ?B/s]"
      ]
     },
     "metadata": {},
     "output_type": "display_data"
    },
    {
     "data": {
      "application/vnd.jupyter.widget-view+json": {
       "model_id": "9f1eeabb494a40ff9175c56fd8d53666",
       "version_major": 2,
       "version_minor": 0
      },
      "text/plain": [
       "added_tokens.json:   0%|          | 0.00/2.00 [00:00<?, ?B/s]"
      ]
     },
     "metadata": {},
     "output_type": "display_data"
    },
    {
     "data": {
      "application/vnd.jupyter.widget-view+json": {
       "model_id": "3b83951fcaa64b87b39da8299babea23",
       "version_major": 2,
       "version_minor": 0
      },
      "text/plain": [
       "special_tokens_map.json:   0%|          | 0.00/112 [00:00<?, ?B/s]"
      ]
     },
     "metadata": {},
     "output_type": "display_data"
    },
    {
     "name": "stdout",
     "output_type": "stream",
     "text": [
      "[{'entity_group': 'ORG', 'score': 0.8408983, 'word': 'Hugging Face', 'start': 0, 'end': 12}, {'entity_group': 'LOC', 'score': 0.99925005, 'word': 'New York', 'start': 25, 'end': 33}]\n"
     ]
    },
    {
     "name": "stderr",
     "output_type": "stream",
     "text": [
      "c:\\Users\\SV937CY\\bias_1\\Lib\\site-packages\\transformers\\pipelines\\token_classification.py:170: UserWarning: `grouped_entities` is deprecated and will be removed in version v5.0.0, defaulted to `aggregation_strategy=\"AggregationStrategy.SIMPLE\"` instead.\n",
      "  warnings.warn(\n"
     ]
    }
   ],
   "source": [
    "## Token Classification (NER)\n",
    "ner = pipeline(\"token-classification\",model=\"dslim/bert-base-NER\", grouped_entities=True)\n",
    "result = ner(\"Hugging Face is based in New York.\")\n",
    "print(result)"
   ]
  },
  {
   "cell_type": "code",
   "execution_count": 5,
   "id": "c896390f",
   "metadata": {},
   "outputs": [
    {
     "data": {
      "application/vnd.jupyter.widget-view+json": {
       "model_id": "0fba3ae2339e4b55ac2f2e0395112299",
       "version_major": 2,
       "version_minor": 0
      },
      "text/plain": [
       "config.json: 0.00B [00:00, ?B/s]"
      ]
     },
     "metadata": {},
     "output_type": "display_data"
    },
    {
     "name": "stderr",
     "output_type": "stream",
     "text": [
      "c:\\Users\\SV937CY\\bias_1\\Lib\\site-packages\\huggingface_hub\\file_download.py:139: UserWarning: `huggingface_hub` cache-system uses symlinks by default to efficiently store duplicated files but your machine does not support them in C:\\Users\\SV937CY\\.cache\\huggingface\\hub\\models--google--tapas-large-finetuned-wtq. Caching files will still work but in a degraded version that might require more space on your disk. This warning can be disabled by setting the `HF_HUB_DISABLE_SYMLINKS_WARNING` environment variable. For more details, see https://huggingface.co/docs/huggingface_hub/how-to-cache#limitations.\n",
      "To support symlinks on Windows, you either need to activate Developer Mode or to run Python as an administrator. In order to activate developer mode, see this article: https://docs.microsoft.com/en-us/windows/apps/get-started/enable-your-device-for-development\n",
      "  warnings.warn(message)\n"
     ]
    },
    {
     "data": {
      "application/vnd.jupyter.widget-view+json": {
       "model_id": "4d7bad7df09c417497aebdd2682c26d7",
       "version_major": 2,
       "version_minor": 0
      },
      "text/plain": [
       "model.safetensors:   0%|          | 0.00/1.35G [00:00<?, ?B/s]"
      ]
     },
     "metadata": {},
     "output_type": "display_data"
    },
    {
     "data": {
      "application/vnd.jupyter.widget-view+json": {
       "model_id": "355053de7af24c6d9e2f6fb282e16194",
       "version_major": 2,
       "version_minor": 0
      },
      "text/plain": [
       "tokenizer_config.json:   0%|          | 0.00/490 [00:00<?, ?B/s]"
      ]
     },
     "metadata": {},
     "output_type": "display_data"
    },
    {
     "data": {
      "application/vnd.jupyter.widget-view+json": {
       "model_id": "f1c794200964456b9a6cc5a7a2d9051f",
       "version_major": 2,
       "version_minor": 0
      },
      "text/plain": [
       "vocab.txt: 0.00B [00:00, ?B/s]"
      ]
     },
     "metadata": {},
     "output_type": "display_data"
    },
    {
     "data": {
      "application/vnd.jupyter.widget-view+json": {
       "model_id": "9998858fb10d4bee9e0d5ba3479de0b6",
       "version_major": 2,
       "version_minor": 0
      },
      "text/plain": [
       "special_tokens_map.json:   0%|          | 0.00/154 [00:00<?, ?B/s]"
      ]
     },
     "metadata": {},
     "output_type": "display_data"
    },
    {
     "name": "stderr",
     "output_type": "stream",
     "text": [
      "c:\\Users\\SV937CY\\bias_1\\Lib\\site-packages\\transformers\\models\\tapas\\tokenization_tapas.py:2699: FutureWarning: Series.__getitem__ treating keys as positions is deprecated. In a future version, integer keys will always be treated as labels (consistent with DataFrame behavior). To access a value by position, use `ser.iloc[pos]`\n",
      "  text = normalize_for_match(row[col_index].text)\n",
      "c:\\Users\\SV937CY\\bias_1\\Lib\\site-packages\\transformers\\models\\tapas\\tokenization_tapas.py:1493: FutureWarning: Series.__getitem__ treating keys as positions is deprecated. In a future version, integer keys will always be treated as labels (consistent with DataFrame behavior). To access a value by position, use `ser.iloc[pos]`\n",
      "  cell = row[col_index]\n"
     ]
    },
    {
     "name": "stdout",
     "output_type": "stream",
     "text": [
      "{'answer': 'Bob', 'coordinates': [(1, 0)], 'cells': ['Bob'], 'aggregator': 'NONE'}\n"
     ]
    }
   ],
   "source": [
    "## Table Question Answering\n",
    "from transformers import pipeline\n",
    "\n",
    "qa = pipeline(\"table-question-answering\", model=\"google/tapas-large-finetuned-wtq\")\n",
    "table = {\n",
    "    \"Name\": [\"Alice\", \"Bob\"],\n",
    "    \"Age\": [\"24\", \"19\"],\n",
    "    \"City\": [\"London\", \"Paris\"]\n",
    "}\n",
    "query = \"Who is older?\"\n",
    "print(qa(table=table, query=query))\n"
   ]
  },
  {
   "cell_type": "code",
   "execution_count": 6,
   "id": "91bf9ca7",
   "metadata": {},
   "outputs": [
    {
     "data": {
      "application/vnd.jupyter.widget-view+json": {
       "model_id": "831b1560a59e445cbe331da7d22f614f",
       "version_major": 2,
       "version_minor": 0
      },
      "text/plain": [
       "config.json:   0%|          | 0.00/451 [00:00<?, ?B/s]"
      ]
     },
     "metadata": {},
     "output_type": "display_data"
    },
    {
     "name": "stderr",
     "output_type": "stream",
     "text": [
      "c:\\Users\\SV937CY\\bias_1\\Lib\\site-packages\\huggingface_hub\\file_download.py:139: UserWarning: `huggingface_hub` cache-system uses symlinks by default to efficiently store duplicated files but your machine does not support them in C:\\Users\\SV937CY\\.cache\\huggingface\\hub\\models--distilbert--distilbert-base-uncased-distilled-squad. Caching files will still work but in a degraded version that might require more space on your disk. This warning can be disabled by setting the `HF_HUB_DISABLE_SYMLINKS_WARNING` environment variable. For more details, see https://huggingface.co/docs/huggingface_hub/how-to-cache#limitations.\n",
      "To support symlinks on Windows, you either need to activate Developer Mode or to run Python as an administrator. In order to activate developer mode, see this article: https://docs.microsoft.com/en-us/windows/apps/get-started/enable-your-device-for-development\n",
      "  warnings.warn(message)\n"
     ]
    },
    {
     "data": {
      "application/vnd.jupyter.widget-view+json": {
       "model_id": "ad8806c783734d61858949dbaba37c3e",
       "version_major": 2,
       "version_minor": 0
      },
      "text/plain": [
       "model.safetensors:   0%|          | 0.00/265M [00:00<?, ?B/s]"
      ]
     },
     "metadata": {},
     "output_type": "display_data"
    },
    {
     "data": {
      "application/vnd.jupyter.widget-view+json": {
       "model_id": "503d21e713de419d8130accfcac5a43c",
       "version_major": 2,
       "version_minor": 0
      },
      "text/plain": [
       "tokenizer_config.json:   0%|          | 0.00/48.0 [00:00<?, ?B/s]"
      ]
     },
     "metadata": {},
     "output_type": "display_data"
    },
    {
     "data": {
      "application/vnd.jupyter.widget-view+json": {
       "model_id": "eabf3a14b47448cbb61648aa60aa2ba6",
       "version_major": 2,
       "version_minor": 0
      },
      "text/plain": [
       "vocab.txt: 0.00B [00:00, ?B/s]"
      ]
     },
     "metadata": {},
     "output_type": "display_data"
    },
    {
     "data": {
      "application/vnd.jupyter.widget-view+json": {
       "model_id": "ad22245e61b8407dbbfde129e10649d6",
       "version_major": 2,
       "version_minor": 0
      },
      "text/plain": [
       "tokenizer.json: 0.00B [00:00, ?B/s]"
      ]
     },
     "metadata": {},
     "output_type": "display_data"
    },
    {
     "name": "stdout",
     "output_type": "stream",
     "text": [
      "{'score': 0.9931169152259827, 'start': 0, 'end': 5, 'answer': 'Paris'}\n"
     ]
    }
   ],
   "source": [
    "## Question Answering (on Paragraphs)\n",
    "qa = pipeline(\"question-answering\", model=\"distilbert/distilbert-base-uncased-distilled-squad\")\n",
    "context = \"Paris is the capital of France and one of the most beautiful cities.\"\n",
    "question = \"What is the capital of France?\"\n",
    "print(qa(question=question, context=context))"
   ]
  },
  {
   "cell_type": "code",
   "execution_count": 7,
   "id": "3c6973f2",
   "metadata": {},
   "outputs": [
    {
     "name": "stdout",
     "output_type": "stream",
     "text": [
      "{'sequence': 'I enjoy painting landscapes and portraits.', 'labels': ['art', 'sports', 'politics'], 'scores': [0.9935991168022156, 0.0039911591447889805, 0.0024097126442939043]}\n"
     ]
    }
   ],
   "source": [
    "## Zero-Shot Classification\n",
    "classifier = pipeline(\"zero-shot-classification\", model=\"facebook/bart-large-mnli\")\n",
    "sequence = \"I enjoy painting landscapes and portraits.\"\n",
    "labels = [\"art\", \"sports\", \"politics\"]\n",
    "print(classifier(sequence, candidate_labels=labels))"
   ]
  },
  {
   "cell_type": "code",
   "execution_count": 9,
   "id": "fadf0895",
   "metadata": {},
   "outputs": [
    {
     "data": {
      "application/vnd.jupyter.widget-view+json": {
       "model_id": "568da6461bf44a379c33fdb2f04ad53b",
       "version_major": 2,
       "version_minor": 0
      },
      "text/plain": [
       "config.json: 0.00B [00:00, ?B/s]"
      ]
     },
     "metadata": {},
     "output_type": "display_data"
    },
    {
     "name": "stderr",
     "output_type": "stream",
     "text": [
      "c:\\Users\\SV937CY\\bias_1\\Lib\\site-packages\\huggingface_hub\\file_download.py:139: UserWarning: `huggingface_hub` cache-system uses symlinks by default to efficiently store duplicated files but your machine does not support them in C:\\Users\\SV937CY\\.cache\\huggingface\\hub\\models--google-t5--t5-base. Caching files will still work but in a degraded version that might require more space on your disk. This warning can be disabled by setting the `HF_HUB_DISABLE_SYMLINKS_WARNING` environment variable. For more details, see https://huggingface.co/docs/huggingface_hub/how-to-cache#limitations.\n",
      "To support symlinks on Windows, you either need to activate Developer Mode or to run Python as an administrator. In order to activate developer mode, see this article: https://docs.microsoft.com/en-us/windows/apps/get-started/enable-your-device-for-development\n",
      "  warnings.warn(message)\n"
     ]
    },
    {
     "data": {
      "application/vnd.jupyter.widget-view+json": {
       "model_id": "277d3a5c610141c6b335c4b916842660",
       "version_major": 2,
       "version_minor": 0
      },
      "text/plain": [
       "model.safetensors:   0%|          | 0.00/892M [00:00<?, ?B/s]"
      ]
     },
     "metadata": {},
     "output_type": "display_data"
    },
    {
     "data": {
      "application/vnd.jupyter.widget-view+json": {
       "model_id": "605a2c5665ed46309bbe8f3a8f1853da",
       "version_major": 2,
       "version_minor": 0
      },
      "text/plain": [
       "generation_config.json:   0%|          | 0.00/147 [00:00<?, ?B/s]"
      ]
     },
     "metadata": {},
     "output_type": "display_data"
    },
    {
     "data": {
      "application/vnd.jupyter.widget-view+json": {
       "model_id": "926cc56259754efe826245f9969d7dc2",
       "version_major": 2,
       "version_minor": 0
      },
      "text/plain": [
       "spiece.model:   0%|          | 0.00/792k [00:00<?, ?B/s]"
      ]
     },
     "metadata": {},
     "output_type": "display_data"
    },
    {
     "data": {
      "application/vnd.jupyter.widget-view+json": {
       "model_id": "96e55d07857345c2843216d2facf7758",
       "version_major": 2,
       "version_minor": 0
      },
      "text/plain": [
       "tokenizer.json: 0.00B [00:00, ?B/s]"
      ]
     },
     "metadata": {},
     "output_type": "display_data"
    },
    {
     "name": "stderr",
     "output_type": "stream",
     "text": [
      "c:\\Users\\SV937CY\\bias_1\\Lib\\site-packages\\transformers\\pipelines\\__init__.py:1081: UserWarning: \"translation\" task was used, instead of \"translation_XX_to_YY\", defaulting to \"translation_en_to_de\"\n",
      "  warnings.warn(\n"
     ]
    },
    {
     "name": "stdout",
     "output_type": "stream",
     "text": [
      "[{'translation_text': 'Das Wetter ist heute sonnig.'}]\n"
     ]
    }
   ],
   "source": [
    "## translation\n",
    "translator = pipeline(\"translation\", model=\"google-t5/t5-base\")\n",
    "print(translator(\"The weather is sunny today.\"))"
   ]
  },
  {
   "cell_type": "code",
   "execution_count": 10,
   "id": "e785b801",
   "metadata": {},
   "outputs": [
    {
     "name": "stderr",
     "output_type": "stream",
     "text": [
      "Your max_length is set to 30, but your input_length is only 26. Since this is a summarization task, where outputs shorter than the input are typically wanted, you might consider decreasing max_length manually, e.g. summarizer('...', max_length=13)\n"
     ]
    },
    {
     "name": "stdout",
     "output_type": "stream",
     "text": [
      "[{'summary_text': 'Hugging Face is a company that develops tools for natural language processing . They created the Transformers library...'}]\n"
     ]
    }
   ],
   "source": [
    "## Summary\n",
    "summarizer = pipeline(\"summarization\", model=\"Falconsai/text_summarization\")\n",
    "text = \"\"\"Hugging Face is a company that develops tools for natural language processing. They created the Transformers library...\"\"\"\n",
    "print(summarizer(text, max_length=30, min_length=10, do_sample=False))\n"
   ]
  },
  {
   "cell_type": "code",
   "execution_count": 11,
   "id": "b201231c",
   "metadata": {},
   "outputs": [
    {
     "data": {
      "application/vnd.jupyter.widget-view+json": {
       "model_id": "5cee978edfed45199ab7e00e090712d3",
       "version_major": 2,
       "version_minor": 0
      },
      "text/plain": [
       "config.json:   0%|          | 0.00/777 [00:00<?, ?B/s]"
      ]
     },
     "metadata": {},
     "output_type": "display_data"
    },
    {
     "name": "stderr",
     "output_type": "stream",
     "text": [
      "c:\\Users\\SV937CY\\bias_1\\Lib\\site-packages\\huggingface_hub\\file_download.py:139: UserWarning: `huggingface_hub` cache-system uses symlinks by default to efficiently store duplicated files but your machine does not support them in C:\\Users\\SV937CY\\.cache\\huggingface\\hub\\models--BAAI--bge-base-en-v1.5. Caching files will still work but in a degraded version that might require more space on your disk. This warning can be disabled by setting the `HF_HUB_DISABLE_SYMLINKS_WARNING` environment variable. For more details, see https://huggingface.co/docs/huggingface_hub/how-to-cache#limitations.\n",
      "To support symlinks on Windows, you either need to activate Developer Mode or to run Python as an administrator. In order to activate developer mode, see this article: https://docs.microsoft.com/en-us/windows/apps/get-started/enable-your-device-for-development\n",
      "  warnings.warn(message)\n"
     ]
    },
    {
     "data": {
      "application/vnd.jupyter.widget-view+json": {
       "model_id": "534e8fa09e2942e8b2a30c9a8f95ea57",
       "version_major": 2,
       "version_minor": 0
      },
      "text/plain": [
       "model.safetensors:   0%|          | 0.00/438M [00:00<?, ?B/s]"
      ]
     },
     "metadata": {},
     "output_type": "display_data"
    },
    {
     "data": {
      "application/vnd.jupyter.widget-view+json": {
       "model_id": "e0b22deb6b02467fa7ab0d7227df5975",
       "version_major": 2,
       "version_minor": 0
      },
      "text/plain": [
       "tokenizer_config.json:   0%|          | 0.00/366 [00:00<?, ?B/s]"
      ]
     },
     "metadata": {},
     "output_type": "display_data"
    },
    {
     "data": {
      "application/vnd.jupyter.widget-view+json": {
       "model_id": "7310f54654864d06be938bca4ff98a3a",
       "version_major": 2,
       "version_minor": 0
      },
      "text/plain": [
       "vocab.txt: 0.00B [00:00, ?B/s]"
      ]
     },
     "metadata": {},
     "output_type": "display_data"
    },
    {
     "data": {
      "application/vnd.jupyter.widget-view+json": {
       "model_id": "92f2a2a11da847d2a2497b7c78ab9d96",
       "version_major": 2,
       "version_minor": 0
      },
      "text/plain": [
       "tokenizer.json: 0.00B [00:00, ?B/s]"
      ]
     },
     "metadata": {},
     "output_type": "display_data"
    },
    {
     "data": {
      "application/vnd.jupyter.widget-view+json": {
       "model_id": "ae04c6c87f1f4e8ab3c0b5bdd10e1def",
       "version_major": 2,
       "version_minor": 0
      },
      "text/plain": [
       "special_tokens_map.json:   0%|          | 0.00/125 [00:00<?, ?B/s]"
      ]
     },
     "metadata": {},
     "output_type": "display_data"
    },
    {
     "name": "stdout",
     "output_type": "stream",
     "text": [
      "[[-0.641159176826477, -0.197326198220253, 0.5568535327911377, -0.8168917298316956, -0.0997236892580986, 0.2702544927597046, 0.7345966100692749, -0.07503358274698257, -0.162505105137825, -0.5393748879432678, -0.709320604801178, -0.2532331347465515, -0.9462787508964539, 0.00427139550447464, -0.08178513497114182, 0.48399093747138977, -0.01694808155298233, 0.6189571619033813, -0.33883798122406006, 0.61031174659729, 8.425861597061157e-05, -0.6929726004600525, -0.16443412005901337, 0.34209513664245605, 0.6664635539054871, -0.36562618613243103, 0.8190702795982361, -0.08573944121599197, 0.1845795214176178, 0.24272564053535461, 0.48523086309432983, -0.12498156726360321, 0.15445536375045776, -0.9349124431610107, 0.4214376211166382, 0.2639595568180084, -0.044407546520233154, 0.37696272134780884, -0.4832245409488678, 0.34510233998298645, 0.052554864436388016, -0.6860820055007935, 0.05912695825099945, -0.34223437309265137, -0.925268828868866, -0.7785194516181946, -0.7367229461669922, 1.0247530937194824, 0.18668025732040405, -0.6648796200752258, -0.3828558921813965, 0.30335232615470886, 0.04659535735845566, 0.5209904909133911, 0.4686259627342224, 0.5064706802368164, -0.5997248291969299, -0.3001576066017151, -0.15580424666404724, -0.36826688051223755, -0.9180394411087036, 0.15400640666484833, 0.20872458815574646, -0.7347001433372498, -0.6981691718101501, 0.5512842535972595, -0.4133482873439789, 0.14924874901771545, -1.0167115926742554, -0.5648678541183472, 0.5282341241836548, -0.0760808065533638, -0.6019135117530823, -0.2866431176662445, 0.2245585322380066, 0.049626097083091736, -0.04343307018280029, -0.5421102046966553, 0.4111592769622803, 1.1297012567520142, 0.29483798146247864, -0.8189006447792053, 0.02604319155216217, 0.9847906827926636, 0.6122422218322754, -0.12615373730659485, 0.03608009219169617, 0.2954576909542084, -1.1063910722732544, 1.1693545579910278, 0.08938732743263245, -0.364749550819397, 0.2893158197402954, 0.5989983081817627, 1.033853530883789, -0.14468473196029663, -0.08884605020284653, -0.6066007614135742, -0.01658753678202629, 0.021561965346336365, -0.14917923510074615, -0.7386695146560669, -0.4768121540546417, -0.9784669280052185, -1.1301453113555908, -0.318911612033844, 0.39005908370018005, -0.22983428835868835, 0.18967799842357635, -0.5839978456497192, -0.7420992851257324, -0.3498576879501343, -0.6678088307380676, 0.5472354888916016, -0.8943678140640259, 1.3497567176818848, 0.2728009521961212, -0.6782615780830383, -0.7398242950439453, -0.491915225982666, 0.7091125249862671, 0.5897504091262817, 0.4374956786632538, 0.5733538269996643, -0.014874957501888275, 0.5224211812019348, -0.8438718318939209, 0.46124571561813354, -0.10364329814910889, -0.10713229328393936, -0.20329934358596802, 0.835721492767334, 0.5481045842170715, -0.021793898195028305, 0.9847927689552307, -0.3133840560913086, 0.3600628077983856, -0.14054927229881287, 0.529938280582428, -0.5725194215774536, 0.5724487900733948, 0.04555558040738106, 0.0018399357795715332, 0.1375751793384552, 1.0338212251663208, -0.5277549028396606, -0.07478169351816177, -0.4157569408416748, -0.5868493318557739, -0.35140931606292725, 0.109306201338768, -0.05655103921890259, -0.3107009530067444, -0.9845247268676758, -0.11005091667175293, 0.7011856436729431, -0.6379247307777405, 0.34266191720962524, 0.39917898178100586, -0.3125471770763397, 0.3428686559200287, -0.4884956479072571, -0.8195719718933105, 0.6300258040428162, 0.19721975922584534, -0.012497292831540108, 0.8159436583518982, 0.23907572031021118, -0.40774428844451904, 0.49259722232818604, -0.34372735023498535, 0.17986302077770233, 0.3472096025943756, 0.15976902842521667, -0.13211099803447723, 0.39384403824806213, 1.743502140045166, -0.0930507704615593, 0.08050544559955597, -0.17429199814796448, -0.5674746036529541, 0.7671211361885071, 0.30490073561668396, 0.19587554037570953, -0.07751242071390152, -0.4560331702232361, 0.541629433631897, -0.4840911030769348, 0.11074686050415039, 0.23851148784160614, -1.0671515464782715, 0.08504274487495422, -0.018472945317626, -0.2728506326675415, 0.5808354616165161, 0.3605130612850189, -0.3555971682071686, 0.6919985413551331, 0.42018625140190125, 0.5575194358825684, -0.8054585456848145, 0.4813612699508667, -0.17439526319503784, 0.0915151983499527, -0.6269815564155579, 0.025278009474277496, 0.19035077095031738, 0.20747920870780945, -0.8308002948760986, -0.015646837651729584, -0.456545352935791, 0.3612094521522522, 0.18828421831130981, 0.05938994884490967, -0.5126720666885376, 0.22568866610527039, 0.3783898651599884, -0.5512076020240784, -0.42244648933410645, 0.039451561868190765, 0.582301139831543, 0.34164944291114807, -0.7892401218414307, 0.25038450956344604, 0.4137394428253174, 1.1029536724090576, 0.9482496380805969, -0.6867080330848694, 0.017777636647224426, -0.24678820371627808, -0.6244319081306458, -0.41687899827957153, 0.35623592138290405, 0.01788344606757164, 0.24696247279644012, 0.012797734700143337, 1.4408941268920898, -0.08993455767631531, 0.875146746635437, -0.8658376932144165, -0.9528571367263794, 0.6517206430435181, 1.2409342527389526, 0.5313776731491089, -0.7870426177978516, -0.08220495283603668, 0.8232476711273193, -0.29932016134262085, 0.09153145551681519, 0.7536198496818542, 0.047156497836112976, 0.04464489221572876, 0.1565149575471878, -0.14686331152915955, -0.20384657382965088, -1.0056653022766113, -0.15462499856948853, -0.4195227324962616, 0.34253954887390137, 0.3783090114593506, 0.7451831698417664, -0.45039868354797363, -0.343124121427536, 0.8366454839706421, -1.4876919984817505, -1.0380734205245972, -0.6975950002670288, -0.3105004131793976, -0.020361408591270447, 0.36071842908859253, 0.6462579369544983, 0.11576740443706512, 0.22687989473342896, -0.5470215678215027, 1.048194408416748, -0.7434645295143127, 0.655179500579834, -0.11728428304195404, 0.38838616013526917, -0.8635214567184448, -0.37313908338546753, 1.4054696559906006, -0.24204516410827637, -1.0059385299682617, 0.3687039613723755, -0.8193300366401672, 0.14413073658943176, 0.26264503598213196, -1.0436861515045166, 0.062162697315216064, 0.8708727955818176, 0.012399792671203613, 0.5755820870399475, 0.15021371841430664, 0.41518262028694153, -0.1660645306110382, 0.9664238691329956, 0.4904972314834595, 0.12534552812576294, 0.2938169538974762, 0.50291907787323, -0.7189204692840576, 0.3784741461277008, -0.8987991213798523, 0.508501410484314, -0.8113742470741272, 0.12795671820640564, -1.0833449363708496, -3.925900936126709, 0.01087106205523014, 0.37074199318885803, -0.26320791244506836, 0.2687770426273346, -0.7216974496841431, 0.6060714721679688, -0.5170177221298218, -1.218172311782837, 0.7406242489814758, -0.05158442258834839, 0.662311851978302, 0.5927653312683105, 0.2656313180923462, 0.3215942680835724, 0.06960353255271912, -0.9366223812103271, -0.6747045516967773, 0.16524989902973175, 0.0041927769780159, -0.8381295800209045, -0.8991284370422363, 0.03602103888988495, 0.030918143689632416, -0.040163155645132065, -0.1577860713005066, 0.25856679677963257, -0.7730131149291992, -0.28043851256370544, -0.1546000838279724, 0.25166502594947815, 0.184202179312706, 0.9013797044754028, 0.019688047468662262, -0.16548168659210205, -0.7861186861991882, 0.8275991678237915, -0.751548707485199, -0.0867176204919815, 0.385697603225708, 0.8255515694618225, -1.012717604637146, 0.07142308354377747, -0.034092601388692856, 0.3472287058830261, -0.313412606716156, -0.49482786655426025, -0.2294406145811081, 0.13774368166923523, 0.4100953936576843, 0.26954397559165955, -0.3689705729484558, -0.8060759902000427, 0.04015189781785011, -0.028965257108211517, 0.2563169300556183, 0.131578266620636, 0.13835671544075012, -0.5863054990768433, -0.3527945876121521, -0.022310931235551834, -0.25173860788345337, -0.7328984141349792, -1.0160608291625977, 0.5301014184951782, -0.4688756763935089, -0.8088428378105164, -1.4775261878967285, 0.8862279057502747, 0.7343901991844177, 1.2041633129119873, -0.7257731556892395, -0.24364608526229858, -1.1820082664489746, 0.04876359552145004, -0.1966470628976822, -0.6164922714233398, -0.09551436454057693, 0.09488572925329208, 0.5378406643867493, -0.5259137153625488, -0.5652163028717041, 1.0257861614227295, 0.07779837399721146, 0.02935081534087658, -0.3099842071533203, 0.24178744852542877, -0.5729350447654724, -0.3381221890449524, -0.23546072840690613, 0.6425263285636902, -0.19952213764190674, -0.9934847950935364, -0.13582965731620789, -0.060392215847969055, -0.5025224089622498, -0.2843058407306671, 0.28063827753067017, 0.3929674029350281, -0.9432494640350342, 0.26017510890960693, 0.19235661625862122, 0.35667818784713745, 0.2009228765964508, 0.5566633343696594, -0.6802453994750977, -0.312663197517395, -0.4372367560863495, 1.0637645721435547, 0.02271147072315216, -0.12876275181770325, 0.010389640927314758, 0.27383697032928467, -0.7714036107063293, 1.0919604301452637, -0.2552639842033386, 0.6407696008682251, 0.5050457715988159, 0.6236624717712402, 0.4006801247596741, -0.0249447301030159, -0.13279271125793457, -0.266181081533432, 0.4672979712486267, -0.25947457551956177, 0.06720516085624695, -0.10136212408542633, -0.2794596552848816, 0.1789318174123764, 0.17234772443771362, 0.04754083603620529, -0.9016028642654419, 0.4874584674835205, 0.4218423068523407, 0.8890210390090942, 0.6891577243804932, -0.23695074021816254, -1.4160772562026978, -0.06368593871593475, -0.9978383779525757, 0.5733206868171692, 0.24580469727516174, -0.9753267765045166, 0.17896634340286255, -0.07108797132968903, -0.2984411120414734, -0.0814318060874939, 0.14117971062660217, -0.555587887763977, 0.1816100776195526, 0.0418599396944046, -0.19749590754508972, -1.0150238275527954, -0.7418398857116699, -0.03937444090843201, 0.47879940271377563, 0.08660141378641129, -0.28792494535446167, 0.767025351524353, -0.3825606107711792, 0.4343332052230835, -0.6559023857116699, -0.5469660758972168, -0.15592807531356812, -0.36547914147377014, 0.6483025550842285, -0.2701423764228821, -0.6857149600982666, -0.07205135375261307, 0.2077963650226593, 0.22921137511730194, 0.4967997670173645, 0.10632383823394775, 0.0595201812684536, -0.38558873534202576, 0.7506558299064636, -0.3608662188053131, -0.7535898685455322, 0.6740087270736694, 0.38229331374168396, -0.07153333723545074, -0.25050950050354004, 0.4122912883758545, -0.06837934255599976, 0.9086630940437317, 0.2323431670665741, -0.5239802598953247, -0.3801681697368622, -0.0457589253783226, 0.45413637161254883, 0.4495246708393097, 0.31546157598495483, -0.5111185312271118, -0.5130768418312073, -0.4138474464416504, -0.9341205358505249, 0.28648674488067627, -0.4393196105957031, -0.05067506432533264, 0.12811881303787231, -0.22905530035495758, 0.40294647216796875, -0.943186342716217, -0.29992347955703735, -0.13625206053256989, -0.9597862958908081, 0.8090121150016785, 0.6885702013969421, -0.603272557258606, 0.06742750853300095, -0.31157317757606506, -0.5283026695251465, -0.5787838697433472, -0.5002974271774292, -0.12948636710643768, -0.17888572812080383, 0.3366793990135193, -0.6409018039703369, 0.192644864320755, 0.04831629991531372, -0.6806484460830688, -0.7873888611793518, -1.2522577047348022, 0.38485217094421387, -0.028923965990543365, 0.5653848648071289, -0.29484808444976807, -0.019535405561327934, -0.014042213559150696, -0.6090226173400879, 1.0000938177108765, -0.4739680588245392, 0.799507737159729, 0.2795864939689636, -1.0863986015319824, 0.08375149965286255, -0.2263493686914444, -0.2482783943414688, 0.04091190546751022, 0.07365210354328156, 1.0644809007644653, 0.19129504263401031, -0.39015087485313416, -0.3725059926509857, 0.3503403067588806, 0.29817527532577515, 0.05044451355934143, -0.5568649172782898, -0.605003297328949, 0.14238448441028595, 0.7660394310951233, -0.22695893049240112, -0.3704901933670044, -0.3203379213809967, 0.1120888739824295, -0.3602455258369446, -1.0562596321105957, 0.9592940807342529, -0.4171086251735687, -0.07885938882827759, 0.09150245785713196, 0.38912233710289, -0.6475852131843567, 0.06655322760343552, 0.8314729332923889, 0.5650354623794556, 0.7156892418861389, -0.11997571587562561, 0.3385782241821289, 0.4781775176525116, -0.2782300114631653, -0.11910884082317352, 0.2379104495048523, 0.16564835608005524, -0.5911755561828613, -0.3277640640735626, -1.092756986618042, 0.3518201410770416, 1.0791569948196411, -1.4099645614624023, 0.09550532698631287, 0.44148367643356323, -0.27418088912963867, 0.12000879645347595, 0.8684188723564148, -1.1135202646255493, 0.0985691174864769, -0.7677325010299683, 0.13781465590000153, 0.7298229932785034, 0.08029508590698242, 0.6197115778923035, -0.4161075949668884, -0.01138274371623993, -0.3981401026248932, 0.2328050434589386, 1.0698492527008057, 1.2715696096420288, -0.6541536450386047, -0.2653283476829529, -0.5035215020179749, 0.7324721217155457, 0.06534463167190552, 0.10471582412719727, -0.15036484599113464, 0.42129752039909363, 0.4815295934677124, -0.9216765761375427, -0.3069666624069214, 0.7243407368659973, 0.33487874269485474, -0.6865461468696594, 0.8184778094291687, 1.0633071660995483, -0.35568222403526306, 0.3964199423789978, 1.0297198295593262, -0.5823181867599487, 0.0023443251848220825, 0.2488933503627777, 0.15882453322410583, 0.23554864525794983, 0.21541397273540497, -0.08866439759731293, 1.4054584503173828, -0.21742799878120422, -0.23719127476215363, 0.7413248419761658, 0.22296325862407684, 1.5182565450668335, 0.8493772149085999, 0.7175053358078003, 0.5058774948120117, 0.5821776390075684, 1.0784156322479248, -1.6192225217819214, 0.5572275519371033, 0.6992155909538269, -0.7352383732795715, 0.38965049386024475, -0.5225890278816223, 0.07004978507757187, 0.40123695135116577, 0.8252341151237488, 0.09209545701742172, -0.3721954822540283, 0.052402473986148834, 0.5208835005760193, 0.5510733127593994, -1.3742057085037231, 0.7256287932395935, 0.44618791341781616, -0.26507651805877686, -0.5605680346488953, 0.6309719085693359, -0.22533492743968964, 0.36139509081840515, -0.7935335040092468, -0.5423126220703125, 0.35995322465896606, -0.034496136009693146, 0.6931803226470947, 1.3672540187835693, -0.4418587386608124, 0.683430016040802, -0.1295674443244934, -0.356268972158432, -0.09025439620018005, 0.09158339351415634, 0.8490549325942993, -0.733527660369873, 0.26276177167892456, 0.3382191061973572, 0.16740992665290833, 0.22999998927116394, -0.33505871891975403, -0.5778687000274658, -0.696479856967926, -0.18246327340602875, 0.81177818775177, 0.2834096848964691, 0.45532912015914917, -0.3999929428100586, -0.5790411233901978, -0.3539063632488251, -0.47743117809295654, -0.2406776249408722, 0.2229365110397339, -0.016303203999996185, -0.48643800616264343, 0.7874706387519836, 0.24116796255111694, 0.5330215096473694, 0.12815819680690765, -0.3596572279930115, -0.14256340265274048, 0.5792304873466492, 0.5239049196243286, -0.0289607010781765, 0.14842969179153442, 1.1737613677978516, 0.9120785593986511, -0.2869760990142822, 0.39449045062065125, 0.43704187870025635, 0.050479114055633545, -0.13530762493610382, -0.5768716931343079, -1.4706707000732422, 0.47240015864372253, 0.39679962396621704, -0.22420912981033325, -1.0611437559127808, 0.29796868562698364, -0.903617799282074, -0.21751749515533447, 0.4667649567127228, 0.6925200819969177, -0.6499664187431335, -1.2427300214767456, -0.2704227566719055, 0.6082006096839905, 0.5930513143539429, 0.436713308095932, 0.28042176365852356, 0.8536069393157959, -0.4869755804538727, -0.4078404903411865, -0.2829858660697937, 0.748759388923645, 0.9533287882804871, 0.7457259297370911, -0.26001137495040894, 0.15809224545955658, -1.056943655014038, -0.6237673759460449, -0.8689853549003601, 0.9958969354629517, 0.24366798996925354, -0.8179659843444824, 0.1905578374862671, -0.2600707411766052, 0.3918537497520447, 0.7853131890296936, -0.2735249400138855, -0.29781919717788696, -0.9332675337791443, 0.0757889449596405, -1.0096051692962646, 0.18335822224617004, -0.17625761032104492, -0.501143217086792, 0.903936505317688, -0.15300613641738892, -0.1391102820634842, -0.4827146530151367, 0.2274109125137329, 0.06260579824447632, 0.5133124589920044, 0.21107710897922516], [-0.3932342231273651, -0.06536765396595001, 1.026484727859497, -0.6169353723526001, 0.08172018826007843, 0.5130226016044617, 0.8071060180664062, 0.044080741703510284, -0.10449370741844177, -0.7810084819793701, -0.4843524396419525, -0.030449800193309784, -0.9220290780067444, 0.12527917325496674, -0.18563413619995117, 0.6402543783187866, 0.20828649401664734, 0.6647188663482666, -0.11560192704200745, 0.5199053883552551, 0.08366444706916809, -1.051073670387268, -0.23025403916835785, 0.22615186870098114, 0.48747649788856506, -0.1729796677827835, 0.6172695159912109, 0.04687399044632912, -0.286922812461853, -0.27923667430877686, 0.6700566411018372, 0.11288386583328247, -0.035932525992393494, -0.7530806660652161, -0.18137402832508087, 0.3652331829071045, -0.5435315370559692, 0.5059715509414673, -0.5890436172485352, 0.2551504671573639, -0.002347175031900406, -0.572160005569458, -0.28542381525039673, 0.07811211794614792, -0.6469631195068359, -0.7288956046104431, -0.22937515377998352, 1.0684579610824585, 0.23815715312957764, -0.23293910920619965, -0.9276044964790344, 0.5409919619560242, 0.10437244921922684, 0.3427514433860779, 0.3690118193626404, 0.5043011903762817, -0.39645999670028687, -0.48641151189804077, -0.04720635712146759, -0.8363232016563416, -0.7005866765975952, 0.20643743872642517, 0.3805259168148041, -0.808947741985321, -0.8338888883590698, 0.8341659307479858, -0.3541847765445709, -0.048649366945028305, -1.1631619930267334, -0.7908753752708435, 0.5650138854980469, 0.4574776291847229, -0.6852892637252808, -0.3612312078475952, 0.00623602420091629, -0.16984009742736816, -0.18674986064434052, -0.4780687093734741, 0.6718999147415161, 1.0692684650421143, 0.34244751930236816, -0.699061393737793, -0.38336750864982605, 1.0450782775878906, 0.5612156391143799, -0.5165764689445496, -0.044871918857097626, 0.48868444561958313, -0.5728081464767456, 1.2666124105453491, -0.10673481225967407, -0.2536274194717407, 0.28085875511169434, 0.56827312707901, 0.5982340574264526, -0.41369596123695374, 0.29497864842414856, -0.21586817502975464, -0.17081311345100403, -0.28563547134399414, -0.3275792598724365, -0.6128215789794922, -0.47846075892448425, -0.9336647987365723, -1.2305235862731934, -0.46494415402412415, 0.20829305052757263, -0.5369662642478943, 0.2026386708021164, -0.3698931932449341, -0.6116092205047607, -0.29174214601516724, -0.21688362956047058, 0.354202538728714, -0.4677186906337738, 1.6175607442855835, 0.2475062906742096, -0.9922146201133728, -0.8180333971977234, -0.2932855486869812, 0.5874589681625366, 0.6355596780776978, 0.4948423206806183, 0.6900126934051514, 0.03862360864877701, 0.5940753221511841, -0.23665019869804382, 0.42420440912246704, -0.516959547996521, -0.3325098156929016, -0.07603859901428223, 0.8805210590362549, 0.6303483843803406, -0.07493560761213303, 0.6161782145500183, -0.563438892364502, 0.37442198395729065, 0.0038149021565914154, 0.5569387674331665, -0.48097971081733704, 0.4355597496032715, 0.7479984760284424, 0.09069149941205978, 0.39806103706359863, 0.9668949246406555, -0.34272706508636475, -0.4253092408180237, -0.6882018446922302, -0.5380489826202393, -0.618337869644165, 0.01850128173828125, 0.04583693668246269, -0.31992223858833313, -0.9147665500640869, -0.07355722039937973, 0.5617117285728455, -0.46609947085380554, 0.7674862742424011, 0.2820456326007843, -0.1594870537519455, 0.13755571842193604, -0.6476280689239502, -0.519234299659729, 0.46507227420806885, 0.46638816595077515, 0.227240651845932, 0.5313239693641663, 0.4123881161212921, -0.3465483486652374, 0.6920475959777832, -0.6119058132171631, -0.06213219463825226, 0.2024882286787033, -0.19351771473884583, -0.45047011971473694, 0.4580821096897125, 1.537825584411621, -0.2533778250217438, 0.3145829737186432, -0.1998794823884964, -0.8444841504096985, 0.986129105091095, 0.2916649281978607, 0.32829052209854126, 0.47078439593315125, -0.35127928853034973, 0.6216566562652588, -0.5242903232574463, 0.07590416073799133, 0.3401867151260376, -1.3472647666931152, -0.026722848415374756, -0.22341713309288025, -0.3162745237350464, 0.6586117148399353, -0.09921607375144958, -0.7402583360671997, 0.3696327805519104, 0.06541745364665985, 0.5398275852203369, -0.8189951777458191, 0.30348002910614014, 0.003640122711658478, 0.00875200517475605, -0.7394302487373352, -0.3820236921310425, 0.2691665589809418, -0.10026299208402634, -0.49815624952316284, 0.3699641525745392, -0.473728209733963, 0.16346952319145203, 0.39400070905685425, 0.004214636981487274, -0.3563385009765625, -0.13770867884159088, 0.24460123479366302, -0.6729649901390076, -0.3516254425048828, -0.5405217409133911, 0.670875072479248, 0.2740989923477173, -0.33194369077682495, 0.2869149446487427, 0.23493605852127075, 1.0482057332992554, 1.2202039957046509, -0.6067513227462769, -0.08088523149490356, 0.00580800324678421, -0.4497227072715759, -0.21802666783332825, 0.1313118189573288, 0.2673235237598419, -0.17727942764759064, -0.02336815744638443, 1.1473747491836548, -0.11899179965257645, 1.121999740600586, -0.737176239490509, -0.7539541125297546, 0.2977166175842285, 1.0327779054641724, 0.8952678442001343, -0.7721690535545349, -0.067360520362854, 0.5609921216964722, -0.31066620349884033, 0.23672062158584595, 0.6101646423339844, -0.3753295838832855, -0.19671887159347534, 0.25252214074134827, 0.039406195282936096, 0.10593672096729279, -0.8065900206565857, 0.05441480875015259, -0.4457702040672302, 0.16586503386497498, 0.7151113152503967, 0.9075120687484741, -0.6386663913726807, 0.12801820039749146, 0.6247084736824036, -1.3804529905319214, -1.0751928091049194, -0.5709099173545837, -0.4779447317123413, -0.10679112374782562, 0.32699015736579895, 0.8536033630371094, -0.14383092522621155, 0.31139856576919556, -0.45667368173599243, 0.8716559410095215, -1.1148638725280762, 0.5990265011787415, 0.181101456284523, 0.23439782857894897, -0.6176354289054871, -0.2865535020828247, 1.2267943620681763, -0.3917577862739563, -0.9201359152793884, 0.1915440708398819, -0.9546689987182617, 0.4445405602455139, 0.10010227560997009, -0.9562233090400696, 0.03742063045501709, 0.7410163879394531, 0.24493558704853058, 0.4338773787021637, 0.38438042998313904, 0.22025617957115173, -0.13664510846138, 0.8640044927597046, 1.3084467649459839, 0.5730733871459961, 0.21184352040290833, -0.45233815908432007, -0.30236831307411194, 0.3677821755409241, -0.8969327211380005, 0.3242547810077667, -0.3835781514644623, 0.14358170330524445, -1.6227408647537231, -3.968658924102783, 0.047015540301799774, 0.37158405780792236, -0.48095011711120605, 0.32048431038856506, -0.6574581265449524, 0.8339120149612427, -0.33506596088409424, -1.138580322265625, 0.5293543934822083, -0.22742703557014465, 0.48633304238319397, 1.0511205196380615, 0.40907207131385803, 0.6099576354026794, 0.26932209730148315, -0.7687079310417175, -0.07500185072422028, -0.13255447149276733, 0.20514412224292755, -0.6024695634841919, -0.96986323595047, -0.08805656433105469, -0.11084554344415665, 0.1644807606935501, -0.35622233152389526, 0.631135106086731, -0.8024083375930786, -0.5513941049575806, -0.13322336971759796, 0.14535988867282867, 0.1763363927602768, 0.6915289759635925, -0.27720680832862854, -0.125009685754776, -0.6792734861373901, 0.9716333746910095, -0.5991649627685547, -0.239305317401886, -0.181862011551857, 0.8948807716369629, -0.6106216311454773, -0.16086965799331665, 0.024204924702644348, 0.26222169399261475, -0.39370423555374146, 0.0652327612042427, -0.05129529535770416, -0.2106347531080246, 0.5114686489105225, 0.3928566873073578, 0.08812543004751205, -0.5952779054641724, 0.12137711048126221, 0.16499197483062744, 0.3699995279312134, -0.0936565175652504, 0.1446903645992279, -0.660243570804596, -0.5818371772766113, -0.07012195885181427, -0.3643554747104645, -0.6166843771934509, -0.9670536518096924, 0.44929295778274536, -0.8450796604156494, -1.1936181783676147, -2.075389862060547, 0.8352110385894775, 0.7710575461387634, 0.7015069723129272, -0.5569897890090942, -0.03326672688126564, -1.2031042575836182, -0.2823922634124756, -0.5281938314437866, -0.14731988310813904, -0.31316041946411133, 0.007141603156924248, 0.5651769042015076, -0.5772278308868408, -0.7402879595756531, 0.57689368724823, 0.41895297169685364, -0.4549969434738159, -0.36428362131118774, 0.3707151710987091, -0.16437683999538422, -0.3254997730255127, -0.44273942708969116, 0.8092389106750488, -0.19520361721515656, -0.7402375340461731, -0.17473365366458893, 0.2314814329147339, -0.3728047013282776, -0.3777695894241333, 0.29409730434417725, 0.3979909420013428, -0.5792936086654663, 0.5514049530029297, -0.5695984959602356, 0.4610523581504822, 0.12971609830856323, 0.5185374021530151, -0.37158942222595215, -0.4033452868461609, -0.42611226439476013, 0.9458351135253906, -0.024111662060022354, 0.18600425124168396, 0.053098566830158234, 0.7278609871864319, -0.8590390682220459, 0.6464419364929199, -0.581045925617218, 0.6508271098136902, 0.5620735883712769, 0.6122229695320129, 0.49682459235191345, 0.4156574010848999, -0.12998971343040466, -0.7589197158813477, -0.07987918704748154, -0.5199467539787292, -0.14781609177589417, 0.12887749075889587, -0.29132676124572754, 0.07940113544464111, 0.24204877018928528, 0.106371209025383, -0.7989481687545776, 0.721583902835846, 0.3469967544078827, 0.6751984357833862, 0.620685875415802, -0.5172828435897827, -1.3010274171829224, -0.5609397292137146, -0.534408688545227, 1.0388820171356201, 0.4509925842285156, -0.7651021480560303, -0.4640882909297943, 0.41653063893318176, -0.07467156648635864, -0.25271129608154297, -0.2635226249694824, -0.7225527763366699, 0.5348130464553833, 0.18103332817554474, -0.4534638226032257, -0.5876768827438354, -0.9143989682197571, -0.3168596625328064, 0.2764089107513428, 0.5410748720169067, -0.1699059009552002, 0.5126345753669739, -0.46681472659111023, 0.3058592975139618, -0.7991788983345032, -0.2556288242340088, -0.21055178344249725, -0.38240110874176025, 0.7020707130432129, 0.22205117344856262, -0.9822365045547485, -0.14696452021598816, 0.3237105906009674, 0.11201606690883636, 0.3161933124065399, -0.06062969192862511, 0.1378752589225769, -0.38297125697135925, 0.8492222428321838, -0.3186149299144745, -0.9297369718551636, 0.6104927062988281, 0.6065835356712341, -0.055204614996910095, -0.45592987537384033, 0.30684664845466614, -0.11305326223373413, 1.1524744033813477, 0.42246586084365845, -0.4386468827724457, -0.5886715650558472, 0.17346031963825226, 0.6833410263061523, 0.7412869930267334, 0.22051012516021729, -0.20724080502986908, -0.5755761861801147, -0.4483351409435272, -0.8921595215797424, 0.4618266820907593, -0.18751302361488342, -0.14217250049114227, 0.04222466051578522, -0.5806009769439697, 0.3795355558395386, -0.8039374351501465, -0.03571206331253052, 0.12897330522537231, -1.3776211738586426, 0.8090011477470398, 0.924178421497345, -0.5616641044616699, 0.05583465099334717, -0.5302485823631287, -0.6580560803413391, -0.7932348847389221, -0.24253889918327332, 0.15566429495811462, -0.2861172556877136, 0.39096400141716003, -0.5563182234764099, 0.4747556447982788, -0.10465177893638611, -0.5413813591003418, -0.5557734370231628, -1.1923346519470215, 0.16194744408130646, -0.3013668656349182, 0.6668470501899719, 0.21931177377700806, 0.1488250344991684, -0.03490734100341797, -0.504197359085083, 0.7813458442687988, -0.790771484375, 0.5814522504806519, 0.3560624122619629, -0.8964678049087524, 0.08497270941734314, -0.1633222997188568, -0.34429582953453064, 0.35587507486343384, 0.4144863486289978, 0.4377850294113159, 0.28032928705215454, -0.2724437713623047, -0.5146716833114624, 0.3676133155822754, 0.8267220258712769, -0.06581425666809082, -0.14777280390262604, -0.598569393157959, 0.23127487301826477, 0.5356557369232178, -0.10406927764415741, -0.6952181458473206, -0.19712911546230316, 0.46213817596435547, 0.39611101150512695, -1.304323434829712, 0.7179868221282959, -0.41029852628707886, 0.0631401389837265, 0.07519669085741043, 0.6556894183158875, -0.25700414180755615, -0.15677706897258759, 0.7344092726707458, 0.4795609414577484, 0.17824144661426544, -0.4142644703388214, 0.2705853581428528, 0.2422887086868286, -0.5646258592605591, -0.12153897434473038, 0.4074738323688507, 0.06023913621902466, 0.04749932885169983, -0.1331714391708374, -0.8825374245643616, 0.16598626971244812, 0.6468327641487122, -1.2535784244537354, -0.07116801291704178, 0.6869487166404724, -0.392336368560791, 0.007710643112659454, 0.6767138838768005, -1.0608829259872437, -0.008298275992274284, -0.7950955033302307, -0.3795984387397766, 0.7757046222686768, 0.5039359927177429, 0.7130029201507568, -0.5675020813941956, -0.0608033761382103, -0.5558631420135498, -0.02977653034031391, 1.099081039428711, 1.1417659521102905, 0.08463779836893082, -0.1384325623512268, -0.5710045099258423, 0.9358293414115906, 0.3524101972579956, -0.1238134354352951, 0.11452260613441467, 0.4478026330471039, 0.2909708023071289, -0.743993878364563, 0.19598174095153809, 0.432957261800766, 0.6252313852310181, -0.5452588200569153, 0.5841265320777893, 0.9154296517372131, -0.41020673513412476, -0.00018073618412017822, 1.3385355472564697, -0.7786747217178345, 0.4227915406227112, 0.29964664578437805, -0.07133598625659943, 0.38743674755096436, 0.24729222059249878, -0.13568353652954102, 1.3329033851623535, 0.1131201982498169, -0.17403192818164825, 0.5891667008399963, 0.19803008437156677, 1.5231354236602783, 0.7456377744674683, 0.5236659049987793, 0.5097813010215759, 0.48780426383018494, 0.8308402299880981, -1.3082281351089478, 0.608143150806427, 0.5375152230262756, -0.8660832643508911, 0.37864306569099426, -0.30611124634742737, 0.024953223764896393, -0.04904311150312424, 0.6039344072341919, 0.1260482370853424, -0.5369542837142944, 0.09241484105587006, 0.32569974660873413, 0.7547111511230469, -1.110304355621338, 0.6402760744094849, 0.4376857578754425, -0.49418801069259644, -0.5938936471939087, 0.5905988812446594, -0.26252174377441406, 0.20733997225761414, -0.5719263553619385, -0.302132785320282, 0.4182492792606354, -0.21893997490406036, 0.35723671317100525, 1.1064547300338745, -0.3182953894138336, 0.6007363796234131, -0.17346274852752686, -0.5616122484207153, -0.2006208300590515, 0.0741109699010849, 0.9241814613342285, -1.302764892578125, 0.3253355622291565, -0.11343078315258026, 0.5086748003959656, 0.26135939359664917, -0.27452871203422546, -0.9818774461746216, -0.9486081004142761, -0.21852673590183258, 0.5511023998260498, 0.5227011442184448, 0.11703209578990936, -0.32748863101005554, -0.6087133884429932, -0.4077700078487396, -0.26348814368247986, -0.2922779619693756, 0.20910975337028503, 0.13452866673469543, -0.6243872046470642, 0.6919800639152527, -0.07594971358776093, 1.1217756271362305, 0.0715077668428421, -0.39137378334999084, -0.18321897089481354, 0.5524815917015076, 0.46671977639198303, 0.20218804478645325, 0.05897130072116852, 0.7148841023445129, 0.4937824606895447, -0.5248523950576782, 0.3826523423194885, 0.26182523369789124, 0.205268993973732, -0.16072386503219604, 0.08813472092151642, -1.5113846063613892, 0.49604079127311707, 0.4449557065963745, -0.27128303050994873, -0.9672943353652954, 0.4655736982822418, -0.870087742805481, -0.01573866605758667, 0.5870912671089172, 0.5946764945983887, -0.4877800941467285, -1.33682382106781, -0.20781569182872772, 0.6367149949073792, 0.21859174966812134, 0.7523417472839355, 0.5385981798171997, 0.7773133516311646, -0.41558074951171875, 0.1342659592628479, -0.05653209239244461, 1.1532138586044312, 0.9942673444747925, 0.5418609976768494, -0.37480953335762024, -0.2253575176000595, -0.8458212018013, -0.49469974637031555, -0.9426690340042114, 0.776163637638092, 0.20574238896369934, -1.0546766519546509, -0.08696471154689789, -0.3520509600639343, 0.9001545906066895, 0.5547724962234497, 0.25857776403427124, -0.1675695925951004, -0.9432517290115356, -0.293822705745697, -1.0693022012710571, 0.40945127606391907, -0.009750783443450928, -0.4463665187358856, 0.8461796045303345, -0.2720726728439331, -0.11151278018951416, -0.4017498791217804, -0.10630790144205093, -0.16607727110385895, 0.3755842447280884, 0.6474048495292664], [-0.3824225068092346, -0.04000328481197357, 0.8070783615112305, -0.5281495451927185, 0.42978203296661377, 0.6353858113288879, 0.7460217475891113, 0.10672907531261444, 0.003699677065014839, -0.7664307355880737, -0.522192120552063, -0.2125849723815918, -1.0076007843017578, 0.3448565900325775, -0.3071519434452057, 0.6243004202842712, 0.2863929867744446, 0.5029452443122864, -0.6643726825714111, 0.46529272198677063, 0.2193852663040161, -0.9729222059249878, -0.13009828329086304, 0.40248915553092957, 0.6124985814094543, -0.39397525787353516, 0.6925605535507202, 0.04990703612565994, -0.08616466820240021, -0.04814771190285683, 0.5726467967033386, -0.10992823541164398, 0.040485136210918427, -0.7763526439666748, 0.034806519746780396, 0.3281130790710449, -0.17931613326072693, 0.27808478474617004, -0.6539335250854492, 0.027712494134902954, 0.043454594910144806, -0.562108039855957, -0.2524884343147278, -0.04042936861515045, -0.9399334192276001, -0.6989560127258301, -0.5553095936775208, 1.639631748199463, 0.44568830728530884, -0.6378953456878662, -0.7639011740684509, 0.507530689239502, -0.13466796278953552, 0.0892258733510971, 0.36123597621917725, 0.5239266157150269, -0.3893488347530365, -0.4147243797779083, -0.05109243839979172, -0.7202330827713013, -0.29643428325653076, 0.24532398581504822, 0.45854249596595764, -0.5846563577651978, -0.8285557627677917, 0.7447158694267273, -0.2872026562690735, -0.05934339389204979, -1.0969123840332031, -0.5383737087249756, 0.4059492349624634, -0.04140274226665497, -0.7788813710212708, -0.328353613615036, 0.032018452882766724, -0.21453052759170532, 0.03572478145360947, -0.3629380762577057, 0.7009863257408142, 1.0760900974273682, 0.1350780427455902, -0.990272581577301, 0.43637940287590027, 1.0235847234725952, 0.6083487868309021, -0.41192176938056946, -0.14506520330905914, 0.40522292256355286, -0.9716477394104004, 1.2937170267105103, 0.09112787991762161, 0.00286845862865448, 0.4054431915283203, 0.6362271308898926, 0.37570953369140625, -0.5110373497009277, 0.25344333052635193, -0.28830254077911377, 0.19913098216056824, 0.14784839749336243, 0.23428282141685486, -0.6550341844558716, -0.4860946238040924, -0.7728543281555176, -1.3025540113449097, -0.45855042338371277, 0.3211893141269684, -0.19009339809417725, 0.30406174063682556, -0.28381988406181335, -0.6197451949119568, -0.4937233328819275, -0.4752037823200226, 0.4365444779396057, -0.7276734113693237, 1.3785805702209473, 0.43544822931289673, -0.8676271438598633, -0.4752284288406372, -0.39269497990608215, 0.2608610987663269, 0.7302395105361938, 0.8328176140785217, 0.8327480554580688, -0.04357292503118515, 0.5954709649085999, -0.6616144180297852, 0.4973457455635071, -0.3182893395423889, -0.1715104579925537, -0.19187413156032562, 0.9517627358436584, 0.5875362753868103, -0.03577804937958717, 0.7544220685958862, -0.6722457408905029, 0.13397306203842163, 0.06842033565044403, 0.7043907046318054, -0.4853232204914093, 0.2970920205116272, 0.5466938018798828, -0.07548114657402039, 0.15559524297714233, 1.0540790557861328, -0.38622114062309265, -0.26375263929367065, -0.6675966382026672, -0.7311059236526489, -0.5385922789573669, 0.09619277715682983, -0.008790068328380585, -0.2878706455230713, -1.2662357091903687, -0.011558783240616322, 0.6354469656944275, -0.41536056995391846, 0.5971410870552063, 0.23667258024215698, -0.02606692537665367, 0.5332959890365601, -0.4729310870170593, -0.3738590180873871, 0.673244059085846, 0.3390679359436035, 0.3082142770290375, 0.8638587594032288, 0.4307470917701721, -0.3271225392818451, 0.4245625138282776, -0.7065933346748352, -0.1318489909172058, 0.3056773543357849, -0.07757270336151123, -0.3207409381866455, 0.4260488748550415, 1.6786268949508667, 0.07667692750692368, 0.0032130139879882336, -0.1914328634738922, -0.7910801768302917, 0.6309496164321899, 0.4178761839866638, 0.38657623529434204, 0.021171603351831436, -0.5154228210449219, 0.6460682153701782, -0.537155270576477, 0.32229527831077576, 0.3263477683067322, -1.2860064506530762, -0.21919523179531097, -0.2833222448825836, -0.4288517236709595, 0.7924128770828247, 0.20194396376609802, -0.6263992190361023, 0.5850353240966797, 0.1513921469449997, 0.5430624485015869, -0.5732653737068176, 0.4879171848297119, -0.15371596813201904, 0.006456565111875534, -0.7664275765419006, -0.1454397737979889, 0.5500922203063965, 0.17461341619491577, -0.5873932242393494, 0.0869419276714325, -0.32789525389671326, -0.030613966286182404, 0.07102169096469879, 0.2529691755771637, -0.2444307804107666, -0.02735074609518051, 0.3687385022640228, -0.9719609618186951, -0.2733404338359833, -0.22812888026237488, 0.8879494667053223, 0.018094711005687714, -0.8457934260368347, 0.19357171654701233, 0.34839490056037903, 0.955335259437561, 1.1613199710845947, -0.6316035389900208, 0.151103675365448, -0.26696646213531494, -0.7993764281272888, -0.15726572275161743, 0.18750455975532532, -0.29090559482574463, 0.19557243585586548, 0.07796113193035126, 1.3372145891189575, -0.2747403383255005, 0.7713142037391663, -0.9791663885116577, -0.8158785700798035, 0.7046473622322083, 1.3217514753341675, 0.8419447541236877, -0.9508267045021057, -0.06667492538690567, 0.7006643414497375, -0.5373948812484741, 0.16520428657531738, 0.7620216608047485, -0.29216769337654114, 0.030762597918510437, 0.0993376150727272, 0.08208480477333069, -0.18844500184059143, -0.9264851808547974, -0.19107797741889954, -0.5245484709739685, 0.21745158731937408, 0.4351574778556824, 0.9278462529182434, -0.6847534775733948, -0.6385485529899597, 0.8260152339935303, -1.3433544635772705, -0.9217628240585327, -0.7793743014335632, -0.6241725087165833, 0.22185662388801575, 0.2608495056629181, 0.9238587021827698, 0.08550994843244553, 0.0642809122800827, -0.3140091001987457, 0.5776112079620361, -0.7960811853408813, 0.520180344581604, -0.016421563923358917, 0.11643368005752563, -0.7841489911079407, -0.18259184062480927, 1.271284818649292, -0.08679383993148804, -0.9550049304962158, 0.14959773421287537, -0.975249171257019, 0.5596674680709839, 0.6016923189163208, -1.0194048881530762, 0.29676809906959534, 0.6345994472503662, -0.032329656183719635, 0.2853352129459381, 0.00953793153166771, 0.5171751976013184, 0.03776969760656357, 0.6992489099502563, 0.8501461744308472, 0.506270706653595, -0.03563200682401657, 0.5918169617652893, -0.16931995749473572, -0.17954948544502258, -0.9551371932029724, 0.3652079105377197, -0.7140228748321533, -0.09765733033418655, -1.0835418701171875, -3.788249969482422, 0.03283200412988663, 0.20765133202075958, -0.34938183426856995, 0.4942496716976166, -0.8019710183143616, 0.7548762559890747, -0.483882337808609, -1.0373094081878662, 0.6050572991371155, 0.023064449429512024, 0.35061120986938477, 0.8335716724395752, 0.29082000255584717, 0.502474844455719, 0.37753885984420776, -0.9278752207756042, -0.693145751953125, 0.10239338874816895, 0.5732181072235107, -0.530293881893158, -0.8342365026473999, -0.23632767796516418, 0.0966147780418396, -0.003517288714647293, -0.2538629174232483, 0.04315534234046936, -0.7862987518310547, -0.7106578350067139, -0.28419455885887146, 0.05048380792140961, 0.2409202605485916, 0.88251793384552, -0.6144980192184448, -0.24344348907470703, -0.8413664102554321, 0.8314706087112427, -0.6204903721809387, -0.14612960815429688, 0.09046017378568649, 0.581648051738739, -1.050241470336914, 0.11282846331596375, 0.2655857503414154, 0.5254057049751282, -0.27874141931533813, -0.7856482267379761, -0.35899123549461365, 0.09659013897180557, 0.5671720504760742, 0.2972261607646942, -0.2658644914627075, -0.8450860977172852, -0.1488002985715866, 0.18404704332351685, 0.15840908885002136, -0.2515941858291626, 0.24776344001293182, -0.5297590494155884, -0.16434714198112488, -0.3922845423221588, -0.29126328229904175, -0.5638322830200195, -0.9283167719841003, 0.6149765849113464, -0.6568183302879333, -1.1396819353103638, -1.7166852951049805, 1.1397522687911987, 1.1136006116867065, 0.7905095815658569, -0.7927209734916687, -0.20448702573776245, -1.2142776250839233, 0.12180013954639435, -0.5699627995491028, -0.16136686503887177, -0.13702763617038727, -0.04067058861255646, 0.8641190528869629, -0.37161576747894287, -0.3286547064781189, 0.7938820719718933, 0.2504444718360901, -0.08918487280607224, -0.38482293486595154, 0.5144000053405762, -0.46897807717323303, -0.3484172523021698, -0.32806360721588135, 0.6656627655029297, -0.36189964413642883, -0.9295555353164673, -0.4621163606643677, 0.09604355692863464, -0.3328210115432739, -0.29940366744995117, 0.1577024906873703, 0.9721400141716003, -0.7462692856788635, 0.2698199450969696, -0.254641592502594, 0.6526748538017273, 0.19593074917793274, 0.4894709587097168, -0.530176043510437, -0.5103762149810791, -0.22278039157390594, 1.20947265625, 0.17114228010177612, 0.0387570858001709, -0.24088364839553833, 0.3321462571620941, -0.9040974974632263, 0.845980703830719, -0.37839895486831665, 0.36529937386512756, 0.4436923861503601, 0.5730851888656616, 0.4941192865371704, -0.15498459339141846, 0.176711767911911, -0.48657089471817017, 0.1354735791683197, -0.3281721770763397, -0.21651950478553772, 0.04607662558555603, -0.21815362572669983, 0.1465996950864792, 0.45086413621902466, 0.307770699262619, -0.8509963154792786, 0.5856603384017944, 0.5139736533164978, 0.8320634365081787, 0.43831247091293335, -0.3977522552013397, -1.4191443920135498, -0.7232218384742737, -0.8702197074890137, 0.6450924277305603, 0.2063489556312561, -1.0456236600875854, -0.2278483659029007, 0.4028471112251282, 0.12346013635396957, -0.8236990571022034, -0.05299542099237442, -0.6789703965187073, 0.45005542039871216, -0.0678495392203331, -0.5083335041999817, -0.44137370586395264, -0.6294112801551819, -0.18687212467193604, 0.035251155495643616, 0.5166100263595581, -0.09845432639122009, 0.5499779582023621, -0.5329421758651733, 0.307029128074646, -0.8083814382553101, -0.174244686961174, -0.10707211494445801, -0.201284721493721, 0.6768709421157837, -0.16958029568195343, -0.7289981245994568, -0.0715198814868927, 0.4130420386791229, -0.11933526396751404, 0.32944175601005554, -0.15524259209632874, 0.11900687217712402, -0.23028090596199036, 0.5416336059570312, -0.3267548680305481, -1.3954079151153564, 0.9078611731529236, 0.45289716124534607, -0.065187007188797, -0.4457901418209076, 0.3000965118408203, -0.405086874961853, 0.9045218825340271, -0.4579918384552002, -0.5842698216438293, -0.5893465876579285, -0.14523257315158844, 0.6232365369796753, 0.4612429141998291, 0.07778920978307724, -0.4864221513271332, -0.3339823782444, -0.491279274225235, -1.0606541633605957, 0.42333412170410156, -0.3147274851799011, 0.03959812596440315, -0.062242768704891205, -0.4763195216655731, 0.23682093620300293, -0.9371325373649597, -0.31389492750167847, 0.15751785039901733, -1.207189679145813, 1.0335464477539062, 0.5863128900527954, -0.6417962312698364, 0.06359456479549408, -0.5250410437583923, -0.4983707070350647, -1.1096742153167725, -0.29665282368659973, -0.024048127233982086, -0.24194763600826263, 0.36942893266677856, -0.5657914876937866, 0.28828245401382446, 0.03436011075973511, -0.5084224939346313, -0.5946551561355591, -1.42014479637146, 0.303352415561676, -0.1364719271659851, 0.733177900314331, -0.05982319265604019, 0.03247399255633354, -0.16414225101470947, -0.7536412477493286, 0.9618149399757385, -0.5330604910850525, 0.46349287033081055, 0.44820407032966614, -1.0304627418518066, 0.17279115319252014, -0.2729867696762085, -0.3678947389125824, 0.25655925273895264, 0.17766281962394714, 0.68125319480896, 0.23623554408550262, -0.7621989846229553, -0.3830485939979553, 0.2965118885040283, 0.48613154888153076, -0.19733507931232452, -0.28137969970703125, -0.6644013524055481, 0.30744633078575134, 0.4853894114494324, -0.15406471490859985, -0.3670751452445984, -0.17215792834758759, 0.5329371690750122, -0.36309510469436646, -0.9292742013931274, 0.9002360701560974, -0.39759305119514465, 0.007853716611862183, 0.22156938910484314, 0.4459788203239441, -0.26711156964302063, 0.5288218259811401, 0.9205026030540466, 0.3884984850883484, 0.3419487774372101, -0.09269934147596359, 0.5525240898132324, 0.23507006466388702, -0.018577855080366135, -0.1432814747095108, 0.16926336288452148, 0.12113475799560547, -0.45980286598205566, -0.21004562079906464, -0.6869804859161377, 0.20612449944019318, 0.9215329885482788, -0.9834320545196533, -0.17723730206489563, 0.433699369430542, -0.4182680547237396, -0.0043971240520477295, 1.045104742050171, -1.0871409177780151, -0.08108574897050858, -0.43307700753211975, -0.3092992603778839, 0.9045082926750183, 0.42713987827301025, 0.6363439559936523, -0.5652574300765991, -0.023943033069372177, -0.4384468197822571, 0.15040776133537292, 0.9977719783782959, 1.2907055616378784, -0.9840555191040039, -0.09183689206838608, -0.0931301862001419, 1.1747804880142212, 0.46078407764434814, -0.14251631498336792, -0.07107280194759369, 0.22229692339897156, 0.4395104646682739, -0.6054912805557251, 0.13800078630447388, 0.8371346592903137, 0.11539997905492783, -0.559866189956665, 0.7271764874458313, 1.0862518548965454, -0.4551670253276825, 0.18478447198867798, 1.2979736328125, -0.757361650466919, 0.0031022727489471436, 0.5183290243148804, 0.19946971535682678, -0.12299855798482895, 0.29794901609420776, -0.0272354818880558, 1.353258728981018, -0.0017419084906578064, -0.6938073635101318, 0.7758302092552185, 0.5408937931060791, 1.8997342586517334, 0.7410722970962524, 0.5424037575721741, 0.4764077067375183, 0.6636914610862732, 0.9702982902526855, -1.3948084115982056, 0.2716972827911377, 0.4928622245788574, -0.48627662658691406, 0.4644435942173004, -0.2987368106842041, 0.1531440019607544, 0.3916652798652649, 0.6127116084098816, 0.134975403547287, -0.362296998500824, 0.2603728771209717, 0.18725821375846863, 0.5743995308876038, -1.0810595750808716, 0.7116421461105347, 0.16497305035591125, -0.24069073796272278, -0.8576222062110901, 0.33589112758636475, 0.1399296224117279, 0.25954288244247437, -0.4801005721092224, -0.5256023406982422, 0.39855316281318665, -0.19390946626663208, 0.5741879940032959, 1.1018871068954468, -0.44793209433555603, 0.7895938754081726, -0.18657809495925903, -0.3442910313606262, -0.048235103487968445, -0.02116670086979866, 0.6841970682144165, -0.624525785446167, 0.20813925564289093, 0.19728082418441772, 0.4464568793773651, 0.08141187578439713, -0.2542617619037628, -0.32186219096183777, -0.9093567132949829, -0.2522848844528198, 0.7168555855751038, 0.6725651621818542, 0.17067362368106842, -0.13043272495269775, -0.5892269015312195, -0.43153226375579834, -0.4770691394805908, -0.07890529930591583, 0.26746007800102234, 0.35700729489326477, -0.5240534543991089, 0.5165477395057678, -0.0774870216846466, 0.6338372230529785, -0.23119837045669556, -0.5023914575576782, -0.43657243251800537, 0.7857202291488647, 0.7344068288803101, 0.4969663619995117, 0.019730644300580025, 1.1811716556549072, 0.6403315663337708, -0.31053128838539124, 0.4732757806777954, 0.2721172273159027, 0.12446798384189606, -0.05884796008467674, -0.8101574778556824, -1.510940432548523, 0.4192500412464142, 0.3745771050453186, -0.26738491654396057, -1.036939024925232, 0.6363900303840637, -0.992275595664978, -0.02231336385011673, 0.47720959782600403, 0.9621347784996033, -0.47521907091140747, -1.1556830406188965, -0.3804936408996582, 0.505108654499054, 0.43620565533638, 0.7434210777282715, 0.4694136381149292, 0.7809184789657593, -0.4539050757884979, -0.20456627011299133, -0.5029051899909973, 0.9844368100166321, 1.069533109664917, 0.5075359344482422, -0.08559415489435196, 0.2153264433145523, -1.088273525238037, -0.3413316607475281, -0.6161350011825562, 1.0311594009399414, 0.3557431101799011, -1.265385389328003, 0.04837979003787041, -0.1443372219800949, 0.6404624581336975, 0.4824161231517792, -0.2515074610710144, -0.07647506892681122, -0.8774788975715637, -0.5092346668243408, -1.2321068048477173, 0.5594528317451477, 0.0343414805829525, -0.3943037986755371, 0.9146842956542969, -0.37231773138046265, -0.058934569358825684, -0.3981119990348816, -0.02122536115348339, 0.16056692600250244, 0.4716300368309021, 0.0318143367767334], [-0.5801079273223877, -0.19396062195301056, 0.787083089351654, -0.7019324898719788, 0.08126065135002136, 0.4520244598388672, 0.7290765643119812, 0.11813125014305115, -0.19440941512584686, -0.46136486530303955, -0.7530959844589233, -0.12939061224460602, -0.9185068011283875, 0.16636371612548828, 0.07242020219564438, 0.6543616056442261, 0.25481924414634705, 0.6050475239753723, -0.24634161591529846, 0.18001410365104675, -0.06420078128576279, -0.9023948907852173, -0.28584393858909607, 0.11895976215600967, 0.44704440236091614, -0.03202623501420021, 0.7338553667068481, -0.09548057615756989, -0.015958890318870544, -0.033649444580078125, 0.5473460555076599, -0.1443420648574829, 0.20847535133361816, -0.7891241908073425, 0.16646797955036163, 0.18933022022247314, -0.19366683065891266, 0.49443238973617554, -0.43673253059387207, 0.13264401257038116, -0.05295727401971817, -0.6047289967536926, 0.12021420896053314, -0.047698233276605606, -0.7450484037399292, -0.8391551375389099, -0.34579989314079285, 0.980732262134552, 0.26299601793289185, -0.401458740234375, -0.3629777729511261, 0.5531845092773438, 0.09560304880142212, 0.22862622141838074, 0.10723787546157837, 0.5274597406387329, -0.5547165870666504, -0.09364131093025208, 0.06493239849805832, -0.8153334259986877, -0.8075244426727295, 0.03667938709259033, 0.3632616102695465, -0.8134105801582336, -0.6863231062889099, 0.8229769468307495, -0.3325355052947998, 0.24759197235107422, -0.7660342454910278, -0.5094943046569824, 0.5995640158653259, 0.16515976190567017, -0.30038267374038696, -0.4835098683834076, 0.03946094214916229, 0.017868831753730774, -0.039396606385707855, -0.5552400350570679, 0.5133143663406372, 1.2174760103225708, 0.350220263004303, -0.41475409269332886, -0.16270428895950317, 0.9972811341285706, 0.5605310797691345, -0.5478785037994385, 0.2478959709405899, 0.2938884496688843, -1.2113041877746582, 1.0980247259140015, 0.1575811356306076, -0.36389803886413574, 0.2626635432243347, 0.7180885672569275, 0.8386881351470947, 0.024802595376968384, 0.3176158666610718, -0.43443048000335693, -0.22250524163246155, -0.12643492221832275, -0.07398973405361176, -0.811103105545044, -0.60212641954422, -0.8588480353355408, -1.223239541053772, -0.2335919886827469, 0.3572938144207001, -0.05571388453245163, 0.06365378946065903, -0.4235500395298004, -0.414296418428421, -0.16355609893798828, -0.35723480582237244, 0.29617324471473694, -0.6498230695724487, 1.2613095045089722, 0.46716201305389404, -0.6037328839302063, -0.817611575126648, -0.22077509760856628, 0.5427879095077515, 0.6795650124549866, 0.5336717367172241, 0.4653146266937256, -0.1117330938577652, 0.5325971841812134, -0.6246195435523987, 0.6050480008125305, -0.31270864605903625, -0.28586652874946594, -0.37673714756965637, 0.784947395324707, 0.5353983044624329, 0.028634212911128998, 0.8991924524307251, -0.31571316719055176, 0.5130200386047363, -0.09173009544610977, 0.3164747357368469, -0.3557857573032379, 0.8090712428092957, 0.18818631768226624, -0.17417335510253906, 0.2711367607116699, 0.8453429937362671, -0.5610488057136536, -0.045476920902729034, -0.6008572578430176, -0.6014726758003235, -0.5651856660842896, 0.0658067911863327, -0.13495028018951416, -0.301846981048584, -1.2105655670166016, -0.1741345375776291, 0.6686809659004211, -0.5733948945999146, 0.2489687204360962, 0.39375001192092896, 0.0165726188570261, 0.2842808961868286, -0.5736622214317322, -0.5849953293800354, 0.6467856764793396, 0.2165604829788208, 0.0013013426214456558, 0.9513630867004395, 0.3523842394351959, -0.35474416613578796, 0.5138463973999023, -0.446997731924057, 0.30199968814849854, 0.16841226816177368, -0.014708694070577621, -0.03298809379339218, 0.34954872727394104, 1.2776734828948975, 0.008243829011917114, 0.1351807415485382, -0.12931230664253235, -0.6055352091789246, 0.9117502570152283, 0.19368810951709747, 0.1958513855934143, -0.006596621125936508, -0.39558684825897217, 0.6757122874259949, -0.48149803280830383, 0.23528601229190826, 0.4192849099636078, -1.047722578048706, 0.09075546264648438, -0.102137491106987, -0.4052727222442627, 0.7301452159881592, 0.37403255701065063, -0.37278735637664795, 0.7365173101425171, 0.19405129551887512, 0.5279121398925781, -0.6153396368026733, 0.3232310712337494, -0.22327709197998047, -0.061546288430690765, -0.8953671455383301, -0.40512222051620483, 0.3730553090572357, 0.17670977115631104, -0.5142167210578918, 0.17451968789100647, -0.14838090538978577, 0.4266274869441986, 0.16928540170192719, -0.3647657036781311, -0.3316437900066376, 0.07038739323616028, 0.47328484058380127, -0.4435974359512329, -0.4065353274345398, -0.3250110447406769, 0.5273302793502808, 0.07666930556297302, -0.5604490637779236, 0.3900843858718872, 0.2884385287761688, 1.0252593755722046, 1.0075159072875977, -0.5645621418952942, -0.14442376792430878, -0.049779199063777924, -0.5670373439788818, -0.21318505704402924, 0.13148066401481628, -0.2224254161119461, -0.12481237947940826, -0.08481477200984955, 1.4833881855010986, -0.15824085474014282, 0.6607005596160889, -0.7143908143043518, -0.8519102334976196, 0.5527650713920593, 1.2401995658874512, 0.9035896062850952, -0.748767614364624, -0.2178511768579483, 0.5625085830688477, -0.24232372641563416, 0.17790767550468445, 0.5031967163085938, -0.2972995340824127, -0.2882886230945587, 0.190877765417099, 0.3254261612892151, -0.11421003937721252, -0.736172080039978, 0.11116392910480499, -0.5998855829238892, 0.4755466878414154, 0.46102985739707947, 0.7325286865234375, -0.24326014518737793, -0.08922779560089111, 0.6499038934707642, -1.1580549478530884, -0.9647351503372192, -0.6662696003913879, -0.2502024173736572, 0.03560353070497513, 0.32787883281707764, 0.4225691854953766, 0.0798654556274414, 0.499446839094162, -0.3818936049938202, 0.6632927656173706, -0.8728933930397034, 0.7163458466529846, -0.1872793436050415, 0.27742111682891846, -1.0516979694366455, -0.3811435401439667, 1.3475219011306763, -0.5010891556739807, -1.0307197570800781, 0.1721910536289215, -0.7202798128128052, 0.12591150403022766, 0.25651946663856506, -1.1221935749053955, -0.006077207624912262, 0.5825043320655823, 0.0710822194814682, 0.40390926599502563, 0.04097483307123184, 0.5154998898506165, -0.2686139941215515, 1.009987711906433, 0.7371930480003357, 0.08593495935201645, 0.4080842137336731, 0.26682424545288086, -0.5730970501899719, 0.3612963855266571, -1.2414380311965942, 0.3408557176589966, -0.7636679410934448, 0.06289042532444, -1.0308051109313965, -4.45906400680542, 0.09043152630329132, 0.4848148822784424, -0.2680590748786926, 0.2536720633506775, -0.6742444038391113, 0.7288732528686523, -0.4541359543800354, -1.2123810052871704, 0.7341383099555969, -0.18057452142238617, 0.8106685876846313, 0.41379866003990173, 0.3110320568084717, 0.2981290817260742, 0.2360469549894333, -1.2820549011230469, -0.3782748281955719, 0.050910867750644684, 0.22396019101142883, -0.6647858619689941, -0.906799852848053, -0.05512120574712753, -0.17460359632968903, 0.030546680092811584, -0.02612045407295227, 0.38246873021125793, -0.6738278269767761, -0.32346993684768677, -0.2283588945865631, 0.1851169466972351, 0.0593404620885849, 0.5997844338417053, 0.08202038705348969, -0.08501370251178741, -0.7855467796325684, 1.0487375259399414, -0.5750510096549988, 0.14816896617412567, -0.010636482387781143, 0.6053472757339478, -1.0133271217346191, -0.05783701688051224, 0.1423748880624771, 0.6355733871459961, -0.2803190052509308, -0.18408797681331635, -0.22030724585056305, 0.3460754454135895, 0.7199810743331909, 0.09179642051458359, -0.197000190615654, -0.704879879951477, 0.08057036995887756, -0.12131837755441666, 0.24566757678985596, 0.020433470606803894, 0.1931389570236206, -0.540768563747406, -0.2475976198911667, 0.13123354315757751, -0.4176696240901947, -0.618461012840271, -0.7731798887252808, 0.5509586334228516, -0.4692647457122803, -0.7386263608932495, -1.3848297595977783, 1.0405452251434326, 0.8993765711784363, 1.1245287656784058, -0.8080211281776428, -0.1383676528930664, -1.2961243391036987, -0.006732117384672165, -0.5139338970184326, -0.43645551800727844, -0.3439122438430786, 0.1652444452047348, 0.6579461097717285, -0.5322165489196777, -0.4577183723449707, 0.9578069448471069, 0.15726345777511597, 0.008391515351831913, -0.46794313192367554, 0.332778662443161, -0.21465466916561127, -0.10455292463302612, -0.05105113983154297, 0.8402494192123413, -0.000529944896697998, -1.124365210533142, -0.06940542161464691, -0.07213418185710907, -0.5359928011894226, -0.2710248529911041, 0.24589815735816956, 0.25403356552124023, -0.7823103070259094, 0.5279790163040161, -0.11865658313035965, 0.4785730242729187, 0.2588352560997009, 0.6539973020553589, -0.4062580466270447, -0.45205429196357727, -0.58481764793396, 0.988100528717041, -0.0019800327718257904, 0.2525753676891327, 0.039807409048080444, 0.4324820935726166, -0.8555175065994263, 0.6941826939582825, -0.28173524141311646, 0.6025047302246094, 0.44983595609664917, 0.48716527223587036, 0.48024260997772217, 0.22889485955238342, 0.0306488499045372, -0.45716947317123413, 0.25518178939819336, -0.534070611000061, -0.10769927501678467, -0.22719618678092957, -0.34468191862106323, 0.05913899838924408, 0.2308545708656311, 0.151408851146698, -0.7309175729751587, 0.5952310562133789, 0.47187328338623047, 0.7688890695571899, 0.4503629505634308, -0.34401893615722656, -1.4947890043258667, 0.047455720603466034, -0.9771888256072998, 0.3222070634365082, 0.2940541207790375, -0.9516165256500244, -0.23705065250396729, -0.04063420742750168, -0.32677775621414185, -0.009681209921836853, 0.04995247721672058, -0.6600430011749268, 0.4131653606891632, 0.3412828743457794, -0.3154370188713074, -0.5942074060440063, -0.8583093285560608, -0.1922508180141449, -0.08916513621807098, 0.2532287538051605, -0.26783183217048645, 0.7138308882713318, -0.48042699694633484, 0.4189099669456482, -0.6004048585891724, -0.6307934522628784, -0.1699695885181427, -0.399379163980484, 0.482927531003952, -0.25742068886756897, -0.7214354872703552, -0.21306255459785461, 0.13713401556015015, -0.027038544416427612, 0.3710891902446747, -0.03503839671611786, 0.18839840590953827, -0.25265583395957947, 0.8990336656570435, -0.3282806873321533, -0.6443813443183899, 0.49641287326812744, 0.47818928956985474, -0.14352113008499146, -0.2087346762418747, 0.13790790736675262, -0.16341477632522583, 0.9497354626655579, 0.1796964406967163, -0.7407434582710266, -0.38792508840560913, 0.2206895351409912, 0.5433927774429321, 0.5560241937637329, 0.28588080406188965, -0.6242693662643433, -0.5055092573165894, -0.34503576159477234, -0.9508020281791687, 0.27589261531829834, -0.2783650755882263, -0.05726603418588638, -0.05940410494804382, -0.1478433459997177, 0.4582822918891907, -0.9734012484550476, -0.33349254727363586, 0.3130797743797302, -1.2418869733810425, 0.8752478361129761, 0.5437536835670471, -0.5663226842880249, 0.0539001040160656, -0.2117973417043686, -0.6452842354774475, -0.423234760761261, -0.4189537465572357, -0.17965245246887207, -0.06993846595287323, 0.4247593879699707, -0.7052718997001648, 0.47415030002593994, -0.15806856751441956, -0.7917101979255676, -0.6388681530952454, -1.2998665571212769, 0.47198277711868286, -0.1770470142364502, 0.5954383611679077, -0.1608179360628128, 0.09663574397563934, 0.083929643034935, -0.5246999859809875, 0.833318293094635, -0.3811693787574768, 0.49076032638549805, 0.42739686369895935, -0.9314624071121216, 0.12400375306606293, -0.2625727653503418, -0.4185417890548706, 0.5423532724380493, 0.042636387050151825, 0.9453315138816833, 0.04642042517662048, -0.5168775320053101, -0.5378279089927673, 0.33822259306907654, 0.1220739409327507, -0.013283357955515385, -0.3503904342651367, -0.7523751854896545, 0.1263289451599121, 0.4807550311088562, -0.049887098371982574, -0.3625098764896393, -0.24368467926979065, 0.23068977892398834, -0.3695586621761322, -0.9196178317070007, 0.9424830675125122, -0.4175010323524475, -0.19647686183452606, 0.08720867335796356, 0.5877666473388672, -0.5629686713218689, 0.14734195172786713, 0.6832508444786072, 0.6052824258804321, 0.28801289200782776, -0.21800383925437927, 0.13680116832256317, 0.28598350286483765, -0.2552100718021393, -0.32289862632751465, 0.37718358635902405, -0.17985156178474426, -0.6513833999633789, -0.33688098192214966, -1.039398431777954, 0.23188155889511108, 0.8780739903450012, -1.2270960807800293, -0.07732389122247696, 0.365978479385376, -0.5195368528366089, -0.06501930207014084, 0.607697069644928, -0.9593528509140015, 0.20501290261745453, -0.5913726687431335, -0.06204140931367874, 0.6537184119224548, 0.10699864476919174, 0.2554299235343933, -0.18467994034290314, 0.0700652152299881, -0.43138453364372253, -0.1752905547618866, 0.9092428088188171, 1.2271828651428223, -0.3093987703323364, -0.2928660213947296, -0.5066839456558228, 0.7719418406486511, 0.11901184171438217, -0.15560945868492126, -0.12009745836257935, 0.4757526218891144, 0.33792465925216675, -0.7948436737060547, -0.07495683431625366, 0.7718647718429565, 0.35913458466529846, -0.35151171684265137, 0.4876002073287964, 0.7910366058349609, -0.38691627979278564, 0.43511027097702026, 1.113286018371582, -0.8589495420455933, -0.11143429577350616, 0.4613506495952606, 0.011865902692079544, -0.23578433692455292, 0.28112030029296875, -0.03371573984622955, 1.4983876943588257, -0.054902032017707825, -0.24689875543117523, 0.9827784299850464, 0.3199474513530731, 1.375636339187622, 0.6712461113929749, 0.792281985282898, 0.4417228698730469, 0.5940827131271362, 0.9961637258529663, -1.3121895790100098, 0.6272203326225281, 0.5101392865180969, -0.5443016290664673, 0.26868414878845215, -0.3537122905254364, -0.11879725754261017, 0.3651472330093384, 0.6087137460708618, 0.004439393058419228, -0.47723856568336487, -0.01083993911743164, 0.04398898780345917, 0.5679095983505249, -0.9311898350715637, 0.8242747783660889, 0.213860422372818, -0.2984026372432709, -0.7973642945289612, 0.5063409805297852, -0.4034343361854553, 0.1798011213541031, -0.8477283716201782, -0.27387523651123047, 0.4319438636302948, -0.13100942969322205, 0.5542746186256409, 1.1200169324874878, -0.27423226833343506, 0.7659832239151001, -0.1303328573703766, -0.1317453235387802, -0.056709423661231995, -0.12010513246059418, 0.9698355793952942, -0.6335489749908447, 0.08175405114889145, 0.34085479378700256, 0.2647552192211151, 0.21848641335964203, -0.04579094052314758, -0.6600797772407532, -0.6145325899124146, -0.22199386358261108, 0.5936850905418396, 0.34911075234413147, 0.380270391702652, -0.41694653034210205, -0.5093916654586792, -0.15699300169944763, -0.347879022359848, 0.03426524996757507, 0.09120052307844162, 0.0024233832955360413, -0.5463590025901794, 0.7265750169754028, -0.005040079355239868, 0.5006153583526611, -0.03200468793511391, -0.3396131992340088, -0.3125450015068054, 0.4574904441833496, 0.6092139482498169, 0.20609718561172485, 0.37809738516807556, 1.1668503284454346, 0.638155460357666, -0.37691593170166016, 0.4659493863582611, 0.4297897517681122, 0.06488053500652313, -0.301119327545166, -0.536080002784729, -1.4661006927490234, 0.5126397013664246, 0.32746341824531555, -0.09993091225624084, -0.949579656124115, 0.19901810586452484, -0.6477979421615601, -0.1289517879486084, 0.5041317939758301, 0.6920085549354553, -0.6656545400619507, -1.111045479774475, -0.33399567008018494, 0.7168219685554504, 0.4187917709350586, 0.8636124730110168, 0.335468053817749, 0.4631826877593994, -0.4804585576057434, 0.06404034793376923, -0.36831676959991455, 0.8884925246238708, 0.7816449999809265, 0.5530643463134766, -0.4216301739215851, 0.16439343988895416, -0.706429660320282, -0.685234010219574, -0.8405983448028564, 0.9443601965904236, 0.5123922228813171, -0.7261644601821899, 0.4228063225746155, -0.002477779984474182, 0.6043428778648376, 0.4937315583229065, -0.04158949851989746, -0.09403809159994125, -0.8711696267127991, 0.05499264597892761, -1.0242388248443604, 0.1968839466571808, 0.20357604324817657, -0.36583390831947327, 0.7898268103599548, -0.14841052889823914, -0.10019038617610931, -0.37465691566467285, 0.03172752261161804, 0.11067003756761551, 0.5005298852920532, -0.005879690870642662], [-0.32851487398147583, 0.010773088783025742, 0.8690326809883118, -0.7199106216430664, 0.07577575743198395, -0.12621808052062988, 0.5338009595870972, -0.04432769864797592, -0.2693568468093872, -0.6198534965515137, -0.8822541832923889, -0.32268401980400085, -0.846045732498169, 0.27025577425956726, 0.4001314640045166, 0.7872214317321777, 0.14535027742385864, 0.7141596078872681, -0.22135967016220093, 0.32911360263824463, 0.041932523250579834, -0.9146333336830139, -0.5108126997947693, 0.21862326562404633, 0.5421518087387085, -0.34833723306655884, 0.645538330078125, -0.23766452074050903, -0.20208558440208435, 0.20267102122306824, 0.26680129766464233, 0.05544120818376541, 0.22040504217147827, -0.8252005577087402, -0.255574107170105, 0.28628697991371155, -0.021325040608644485, 0.4390830993652344, -0.2878861725330353, -0.09272663295269012, 0.202381432056427, -0.523801326751709, 0.044685348868370056, 0.09283052384853363, -0.59963059425354, -0.7419091463088989, -0.12266351282596588, 1.2220946550369263, 0.43232911825180054, -0.5712193250656128, -0.3561423420906067, 0.6173866391181946, 0.0008136928081512451, 0.23320695757865906, 0.20995062589645386, 0.46526482701301575, -0.8034324645996094, -0.09908736497163773, 0.17209188640117645, -0.7430228590965271, -0.9071504473686218, -0.002360675483942032, 0.26740431785583496, -1.023671269416809, -0.6227697134017944, 0.6973549723625183, -0.7828219532966614, 0.3721136450767517, -0.5781267285346985, -0.675436794757843, 0.6774184703826904, 0.07365207374095917, -0.18043437600135803, -0.44454100728034973, 0.024897759780287743, -0.23235780000686646, -0.26828452944755554, -0.5810580849647522, 0.4073229730129242, 0.8784404993057251, 0.5012893676757812, -0.43856486678123474, 0.30597618222236633, 0.906880795955658, 0.45556604862213135, -0.619819164276123, 0.1627987027168274, 0.43582940101623535, -1.235500454902649, 0.8371349573135376, 0.24760505557060242, -0.18210051953792572, 0.3781876564025879, 0.8567529320716858, 1.017578363418579, 0.07044889032840729, 0.300188809633255, -0.46411871910095215, -0.16189666092395782, -0.01186053454875946, 0.2608288526535034, -0.3695841133594513, -0.3819384276866913, -1.0512183904647827, -1.3372082710266113, -0.07800444960594177, 0.14266623556613922, -0.4750630259513855, 0.20606015622615814, -0.45442909002304077, -0.5373126864433289, 0.02031233161687851, -0.2817133963108063, 0.17053744196891785, -0.9764373898506165, 1.5409109592437744, 0.10256582498550415, -0.6360395550727844, -0.983200192451477, -0.2836757302284241, 0.5468851923942566, 0.5537442564964294, 0.6159679889678955, 0.2259741723537445, -0.022730045020580292, 0.4606929123401642, -0.6738157272338867, 0.3065505027770996, -0.27861514687538147, -0.38350993394851685, -0.45009759068489075, 0.678693950176239, 0.7100428342819214, 0.1564001590013504, 0.7370174527168274, -0.17290204763412476, 0.1838412582874298, -0.20546746253967285, 0.0933360755443573, -0.45929670333862305, 0.5764486789703369, 0.21171173453330994, -0.2673194706439972, 0.3899267315864563, 0.9652971029281616, -0.6178960800170898, -0.06088263913989067, -0.7881169319152832, -0.612132728099823, -0.7707388997077942, 0.19505168497562408, 0.012156326323747635, -0.5711978077888489, -0.7280378937721252, -0.048846930265426636, 0.8109588027000427, -0.6080721616744995, 0.28252217173576355, 0.26212024688720703, -0.1003979742527008, 0.015310391783714294, -0.34551653265953064, -0.6951807737350464, 0.5480583906173706, 0.3439807593822479, 0.23083609342575073, 0.8471895456314087, 0.36979517340660095, -0.28156232833862305, 0.3227440416812897, -0.22743681073188782, -0.017142415046691895, 0.18073764443397522, 0.03335177153348923, -0.07605724036693573, 0.38665860891342163, 1.5196698904037476, -0.029546599835157394, 0.15753227472305298, -0.123989038169384, -0.6963106989860535, 0.6043543815612793, 0.15276196599006653, -0.03949643671512604, -0.12446863949298859, -0.3515007793903351, 0.5674876570701599, -0.6953427195549011, 0.23660151660442352, 0.509985089302063, -1.0363471508026123, 0.2530730068683624, -0.001013430766761303, -0.3060930371284485, 0.8275470733642578, 0.46376878023147583, -0.3461237847805023, 0.4495089650154114, 0.19350922107696533, 0.46079859137535095, -0.6253759264945984, 0.2556171119213104, -0.16983118653297424, 0.18637986481189728, -0.5212424993515015, -0.23570990562438965, 0.3731231987476349, 0.2276758849620819, -0.8876485824584961, 0.32509979605674744, -0.24238522350788116, 0.3873751759529114, 0.49748411774635315, -0.14418254792690277, -0.685787558555603, 0.1581774801015854, 0.12139268964529037, -0.41258445382118225, -0.44590091705322266, -0.20650717616081238, 0.518677830696106, 0.07524771988391876, -0.9377901554107666, 0.3020593523979187, 0.19088760018348694, 1.0285948514938354, 0.8155345320701599, -0.732751727104187, 0.35617464780807495, -0.13850629329681396, -0.43855077028274536, -0.2934982180595398, 0.4377215504646301, -0.15592066943645477, 0.06357453763484955, -0.10790704935789108, 1.584700584411621, 0.14176596701145172, 0.666587233543396, -0.7998707890510559, -0.8762532472610474, 0.6018081903457642, 1.0593146085739136, 0.9019488096237183, -0.2983802855014801, 0.08485156297683716, 0.46281901001930237, -0.1653546839952469, 0.27701300382614136, 0.5339265465736389, -0.07042400538921356, -0.5408709645271301, -0.082623191177845, 0.2708970308303833, -0.23743200302124023, -0.9695712924003601, 0.06254830956459045, -0.5242845416069031, 0.2788534164428711, 0.4331330955028534, 0.8890050649642944, -0.46726757287979126, -0.24641087651252747, 0.561267614364624, -1.0485960245132446, -0.9195665121078491, -0.4221433699131012, 0.013831768184900284, -0.0636228621006012, 0.49947285652160645, 0.4881061911582947, -0.15350627899169922, 0.6178686618804932, -0.25634413957595825, 0.692635178565979, -0.8913527131080627, 0.6037107706069946, 0.07100041210651398, 0.3080020248889923, -1.00798499584198, -0.5685787796974182, 1.2531039714813232, -0.7157143354415894, -0.7602665424346924, 0.5180907845497131, -0.7002246975898743, 0.02014213427901268, 0.46795815229415894, -0.7249647378921509, -0.06584609299898148, 0.5826283097267151, 0.014730222523212433, 0.44541996717453003, 0.11990019679069519, 0.5594636797904968, -0.343535453081131, 0.7335993051528931, 0.7290611267089844, 0.1696731001138687, 0.039644479751586914, 0.18973493576049805, -0.3670803904533386, 0.42869091033935547, -0.9619393348693848, 0.0574050173163414, -0.7954020500183105, 0.125784769654274, -0.9850643873214722, -4.438534259796143, -0.04633532464504242, 0.3097767233848572, -0.46818971633911133, 0.420014351606369, -0.6475152373313904, 0.727266788482666, -0.30241504311561584, -1.0580878257751465, 0.7034251093864441, -0.16965579986572266, 0.6804882287979126, 0.5682323575019836, 0.22205588221549988, 0.5793940424919128, -0.05657199025154114, -1.5356281995773315, -0.39393943548202515, 0.20619824528694153, 0.02822348102927208, -0.8821812868118286, -0.8475858569145203, -0.100204236805439, -0.06290140002965927, 0.11152979731559753, 0.09364438056945801, 0.33024996519088745, -0.837574303150177, -0.3277662992477417, 0.04974782466888428, 0.0997561365365982, 0.14033257961273193, 0.6940277218818665, 0.05583933740854263, -0.10562462359666824, -0.4815715253353119, 1.235008955001831, -0.6888635754585266, -0.03407934308052063, 0.05883566290140152, 0.82537841796875, -1.0644409656524658, -0.13707470893859863, -0.017740212380886078, 0.4339659810066223, -0.21957702934741974, 0.009746883064508438, -0.06265590339899063, 0.2208677977323532, 0.6538156867027283, -0.05803900584578514, -0.43019774556159973, -0.9538663029670715, 0.062339164316654205, -0.19491231441497803, 0.21333938837051392, -0.031222347170114517, 0.3436366617679596, -0.504260778427124, -0.2572004497051239, 0.1635103076696396, -0.3460260033607483, -0.6612746715545654, -0.9997226595878601, 0.31355729699134827, -0.33185073733329773, -0.7297177314758301, -1.353438377380371, 0.7727844715118408, 0.6219537258148193, 0.8185200691223145, -0.9612727761268616, 0.11910586059093475, -1.208972692489624, -0.017340507358312607, -0.6728663444519043, -0.46780136227607727, -0.10447557270526886, 0.011966733261942863, 0.6755345463752747, -0.9281126260757446, -0.5294334292411804, 0.6087895631790161, 0.473461389541626, -0.08786404132843018, -0.17424091696739197, 0.3940551280975342, -0.2979919910430908, -0.37293586134910583, -0.09862014651298523, 0.7190555334091187, -0.08722779154777527, -0.8801682591438293, 0.10504420101642609, 0.0637810006737709, -0.33702611923217773, -0.10321345925331116, 0.12090282142162323, 0.22398319840431213, -0.5349195003509521, 0.49648457765579224, 0.046326592564582825, 0.2127794325351715, 0.09747849404811859, 0.4497956335544586, -0.30832016468048096, -0.2880030870437622, -0.4606356918811798, 0.9421095848083496, -0.05054369196295738, 0.17748042941093445, 0.11159271001815796, 0.23067377507686615, -0.7975546717643738, 0.8954903483390808, -0.3628078103065491, 0.3940218985080719, 0.6730138063430786, 0.6501919031143188, 0.5300586223602295, 0.13200673460960388, 0.022840339690446854, -0.2802984118461609, 0.160958930850029, -0.5207293033599854, 0.046287763863801956, -0.2086162269115448, -0.3511110544204712, 0.1527315080165863, 0.23048967123031616, 0.26954054832458496, -0.6326090693473816, 0.3539653420448303, 0.5633094310760498, 0.7208080291748047, 0.7506702542304993, -0.3696959912776947, -1.522300124168396, 0.34219565987586975, -0.8228706121444702, 0.35682666301727295, 0.30247142910957336, -0.9036073684692383, 0.03485517203807831, 0.18933968245983124, -0.40950557589530945, -0.05577812343835831, 0.18820443749427795, -0.41133517026901245, 0.6298666000366211, 0.45669037103652954, -0.21710391342639923, -0.46077463030815125, -1.0909583568572998, -0.3809714913368225, 0.13264665007591248, 0.5223021507263184, -0.16240936517715454, 0.5046440362930298, -0.5096466541290283, 0.14630697667598724, -0.7439496517181396, -0.06723753362894058, -0.07501927018165588, -0.5116114616394043, 0.9328091144561768, 0.01603863388299942, -0.6777055263519287, -0.054375384002923965, 0.3565816581249237, 0.35864806175231934, 0.426540732383728, 0.14934960007667542, 0.06908820569515228, -0.23942916095256805, 0.759122371673584, -0.3875529170036316, -0.7448422312736511, 0.6505787968635559, 0.5109907388687134, -0.22607962787151337, -0.4129576086997986, 0.34421220421791077, -0.01387911755591631, 0.8021655082702637, -0.04857398942112923, -0.673611581325531, -0.40217629075050354, 0.3194069564342499, 0.40049904584884644, 0.4602145850658417, 0.48370349407196045, -0.5513256788253784, -0.764611005783081, -0.3641868531703949, -0.8193359375, 0.31905069947242737, -0.41347241401672363, -0.10583183169364929, 0.05776584893465042, -0.3281446695327759, 0.46917182207107544, -1.0111111402511597, -0.3190053701400757, 0.0787104070186615, -1.096430778503418, 0.7094153761863708, 0.719049870967865, -0.5176766514778137, -0.10170146822929382, 0.02119532972574234, -0.7645627856254578, -0.30875062942504883, -0.033666010946035385, -0.08426985144615173, -0.09094546735286713, 0.33980122208595276, -0.8698056936264038, 0.2930922508239746, -0.18368513882160187, -0.6717889308929443, -0.5136715173721313, -1.015822410583496, 0.48607492446899414, -0.05771825090050697, 0.4550352692604065, 0.09385372698307037, 0.003103390336036682, -0.011819213628768921, -0.32553452253341675, 0.6063911318778992, -0.24144700169563293, 0.9233514666557312, 0.16504743695259094, -0.9628787636756897, 0.3575490117073059, -0.14906328916549683, -0.22098219394683838, 0.21157854795455933, -0.1752587854862213, 1.0389386415481567, 0.2324489951133728, -0.24334320425987244, -0.6740463972091675, 0.45060014724731445, 0.3603936433792114, 0.056063212454319, -0.25158417224884033, -0.6916617155075073, 0.10042412579059601, 0.4869580864906311, -0.14809073507785797, -0.31878218054771423, -0.2977712154388428, 0.34646522998809814, -0.8095479011535645, -0.8962216377258301, 1.3317229747772217, -0.25866979360580444, -0.018280141055583954, 0.2669897675514221, 0.3643086850643158, -0.3761601746082306, -0.16661110520362854, 0.5360808372497559, 0.5705318450927734, 0.33969005942344666, -0.4533604383468628, -0.0013208137825131416, 0.39061832427978516, -0.06984727829694748, -0.29383575916290283, 0.04090476408600807, -0.14541785418987274, -0.4256525933742523, -0.4382062256336212, -1.300153136253357, 0.2804516553878784, 0.8052493333816528, -1.3458960056304932, -0.02905295230448246, 0.501735270023346, -0.7268263697624207, -0.01902288943529129, 0.6605070233345032, -0.9529890418052673, 0.015410024672746658, -0.5926164984703064, -0.24031539261341095, 0.8823825120925903, -0.27231138944625854, 0.419072687625885, -0.33504754304885864, -0.2215385138988495, -0.22727635502815247, -0.36974093317985535, 0.8856185078620911, 1.3298499584197998, 0.059924736618995667, -0.38890087604522705, -0.3776839077472687, 0.5612857341766357, -0.058614201843738556, -0.3179951310157776, 0.12168852984905243, 0.711223840713501, 0.37209588289260864, -1.0776581764221191, -0.23814859986305237, 0.9008573293685913, 0.28872472047805786, -0.5798176527023315, 0.6803236603736877, 0.600517749786377, -0.03782038390636444, 0.20605355501174927, 0.8675867319107056, -0.9757485389709473, -0.1212581917643547, 0.40546688437461853, 0.14993473887443542, 0.22509950399398804, 0.1982806921005249, -0.022678527981042862, 1.27419912815094, -0.02941219136118889, -0.1824948787689209, 0.49547991156578064, 0.14217709004878998, 1.3105491399765015, 0.5155854225158691, 0.4486313760280609, 0.27021995186805725, 0.493914395570755, 0.7593296766281128, -1.3955398797988892, 0.6829085350036621, 0.5492264032363892, -0.7366126775741577, 0.29600200057029724, -0.28157564997673035, -0.03521430492401123, 0.47391554713249207, 0.6150676012039185, -0.17131274938583374, -0.17362676560878754, -0.020501598715782166, 0.11068381369113922, 0.7306022047996521, -1.1686298847198486, 0.8255623579025269, 0.15640822052955627, -0.25044500827789307, -0.42953401803970337, 0.2465805560350418, -0.03034880757331848, 0.1745702475309372, -0.8037896156311035, -0.04570852965116501, 0.3369530737400055, 0.05111313611268997, 0.39366137981414795, 1.0062134265899658, -0.4804319739341736, 0.8153893947601318, -0.24827511608600616, -0.3553975224494934, 0.007843151688575745, -0.22069093585014343, 0.9014599323272705, -0.5933901071548462, 0.30306342244148254, 0.22589045763015747, 0.1722627431154251, 0.5558304190635681, -0.1845288872718811, -0.3301909267902374, -0.5223312377929688, -0.17424441874027252, 0.5591477155685425, 0.19061286747455597, 0.5694881081581116, -0.6537421345710754, -0.37642592191696167, -0.014080435037612915, -0.1565941870212555, 0.2010042816400528, -0.04337674379348755, -0.00962657481431961, -0.510227620601654, 0.5960097908973694, -0.2136400192975998, 0.4594959616661072, 0.07735437154769897, -0.29421132802963257, 0.05081456899642944, 0.3799937665462494, 0.4983074367046356, 0.21837224066257477, 0.3364206850528717, 1.341843605041504, 0.29727745056152344, -0.34476903080940247, 0.5213755965232849, 0.5036798715591431, 0.22594773769378662, -0.24351473152637482, -0.253115177154541, -1.314017653465271, 0.6660701036453247, 0.4419441223144531, -0.019227273762226105, -0.9550028443336487, 0.3652247190475464, -0.5412668585777283, -0.27450335025787354, 0.6399118900299072, 0.30511853098869324, -0.7732938528060913, -1.3074848651885986, -0.11771182715892792, 0.709260106086731, 0.14808882772922516, 0.8544900417327881, 0.0762903094291687, 0.8973720073699951, -0.5067943334579468, 0.17817094922065735, -0.1306314766407013, 0.8780766129493713, 0.6956678628921509, 0.6684700846672058, -0.5959094762802124, 0.37094298005104065, -0.6040571928024292, -0.6913650631904602, -0.7276139259338379, 0.7310428619384766, 0.5017192959785461, -0.8778345584869385, 0.23864354193210602, -0.17529380321502686, 0.4315571188926697, 0.6496263146400452, -0.1252959966659546, -0.2725617289543152, -1.0070178508758545, 0.4046820104122162, -1.1815977096557617, 0.1473979353904724, 0.01710265874862671, -0.33420413732528687, 0.7506100535392761, -0.42922860383987427, -0.2963590919971466, -0.49625593423843384, 0.23863375186920166, -0.0049531906843185425, 0.39703357219696045, -0.25975683331489563], [-0.8188179731369019, -0.30224743485450745, 0.8737103343009949, -0.8709928393363953, 0.2073662281036377, 0.4427858889102936, 0.7995445132255554, -0.23589375615119934, 0.002707419916987419, -0.4567985236644745, -0.5418413877487183, -0.11474630236625671, -1.0183899402618408, 0.11637475341558456, 0.3485122323036194, 0.5249491930007935, 0.07258756458759308, 0.8634935021400452, -0.007217686623334885, 0.6066375374794006, -0.09148289263248444, -1.0536904335021973, -0.3261093497276306, 0.2959634065628052, 0.6426576375961304, -0.44089627265930176, 0.8767392635345459, -0.07463560253381729, 0.0007574111223220825, 0.14101921021938324, 0.6471273303031921, 0.028685085475444794, 0.3023388981819153, -0.9191319346427917, -0.004753813147544861, 0.2789231836795807, -5.7213008403778076e-05, 0.37795424461364746, -0.3763596713542938, 0.2369619607925415, 0.07621642202138901, -0.49415916204452515, 0.26979538798332214, -0.206107959151268, -0.8719164729118347, -0.9276967644691467, -0.31748223304748535, 0.7543485164642334, -0.06902934610843658, -0.2693052291870117, -0.250993013381958, 0.5924588441848755, -0.031895846128463745, 0.5042951107025146, 0.08030731976032257, 0.4619812071323395, -0.922244131565094, -0.05572305619716644, 0.03786806762218475, -0.6893006563186646, -0.9518250226974487, -0.03765759989619255, 0.3245927691459656, -0.8495983481407166, -0.8097313046455383, 0.8494176864624023, -0.4013592600822449, 0.5357023477554321, -0.6864133477210999, -0.5522505044937134, 0.5642600655555725, 0.2993033826351166, -0.2259037047624588, -0.24118292331695557, -0.08589201420545578, -0.30141952633857727, -0.04821299761533737, -0.7084219455718994, 0.6115735769271851, 1.0138728618621826, 0.3151889145374298, -0.7411338090896606, 0.2479042410850525, 0.8171315789222717, 0.47225964069366455, -0.3057960867881775, 0.055690910667181015, 0.3490220606327057, -0.7859721779823303, 1.0078699588775635, 0.039944395422935486, -0.20446757972240448, 0.269773006439209, 0.9466623663902283, 1.1778885126113892, -0.2767416834831238, 0.22087694704532623, -0.3414444625377655, -0.17542093992233276, -0.4163540005683899, 0.18654513359069824, -0.7590953707695007, -0.5598213076591492, -0.9839492440223694, -1.0635859966278076, -0.28238898515701294, -0.007661353796720505, -0.5994317531585693, 0.060744911432266235, -0.3449534475803375, -0.40310269594192505, -0.246742382645607, -0.25992774963378906, 0.3388301134109497, -0.7657859325408936, 1.4415037631988525, 0.23222921788692474, -0.4596855342388153, -0.9984138607978821, -0.18317405879497528, 0.688494861125946, 0.4800208508968353, 0.6665390729904175, 0.16693125665187836, -0.038299381732940674, 0.6132553219795227, -0.7842322587966919, 0.11582931131124496, -0.03806064650416374, -0.5036934018135071, -0.23495671153068542, 0.4757113754749298, 0.6646308898925781, -0.05700307339429855, 0.7192369699478149, -0.12579089403152466, 0.3390641212463379, -0.3075193762779236, 0.44084611535072327, -0.3732013702392578, 0.7427993416786194, 0.3466435372829437, 0.08750935643911362, 0.14214970171451569, 0.6568273305892944, -0.5737504959106445, 0.1404200941324234, -0.5168755650520325, -0.8241114020347595, -0.7895216345787048, -0.1325259506702423, -0.24344027042388916, -0.6777946949005127, -0.8388821482658386, -0.2277117669582367, 0.7740647196769714, -0.5250245332717896, 0.38131269812583923, 0.37639516592025757, 0.16982446610927582, 0.1658010184764862, -0.39968034625053406, -0.8352615833282471, 0.7964501976966858, 0.46151912212371826, 0.35307586193084717, 1.141093373298645, 0.5259153842926025, -0.36820903420448303, 0.6072540283203125, -0.17921790480613708, -0.029003886505961418, 0.09847720712423325, -0.14978370070457458, -0.07027281075716019, 0.29186689853668213, 1.526416540145874, 0.026489656418561935, -0.30518651008605957, -0.09932518750429153, -0.4952300786972046, 0.8049279451370239, 0.34574395418167114, 0.12658363580703735, 0.07909242063760757, -0.3538455665111542, 0.5455873012542725, -0.6913009881973267, 0.16567763686180115, 0.46575596928596497, -1.3335391283035278, 0.23548623919487, 0.007587019354104996, -0.3618375062942505, 0.6739301085472107, 0.6121175289154053, -0.4096185266971588, 0.9254419803619385, 0.21142138540744781, 0.5502877235412598, -0.7653796672821045, 0.35147494077682495, -0.09388382732868195, 0.0957188829779625, -0.7298464775085449, -0.3652033805847168, 0.20652949810028076, 0.1315808892250061, -0.8751097917556763, 0.03160930797457695, -0.2072276622056961, 0.450313925743103, 0.1470765769481659, -0.281688928604126, -0.33368220925331116, 0.04601350426673889, 0.1666371077299118, -0.25814366340637207, -0.5500001907348633, -0.27171313762664795, 0.6377941370010376, 0.08603473007678986, -0.6351388692855835, 0.2830844223499298, 0.05967608094215393, 0.937850832939148, 0.8446154594421387, -0.6362878680229187, -0.03205345571041107, -0.47264254093170166, -0.624721884727478, -0.2944994270801544, 0.04909495264291763, 0.23050615191459656, -0.16444844007492065, -0.19491945207118988, 1.5214958190917969, -0.06146378070116043, 0.6963840126991272, -0.9212853312492371, -0.7543708086013794, 0.7119756937026978, 1.135852336883545, 0.9787184000015259, -0.5610109567642212, -0.08571802079677582, 0.7004346251487732, -0.10157094150781631, 0.01220645010471344, 0.7236576080322266, 0.03088715672492981, -0.17930953204631805, 0.05550336837768555, 0.17213810980319977, -0.09406319260597229, -0.7944109439849854, 0.03162284195423126, -0.6849079132080078, 0.4730573296546936, 0.47827571630477905, 0.966942548751831, -0.036481909453868866, -0.025142624974250793, 0.4860144853591919, -1.2007354497909546, -0.9502188563346863, -0.5744150280952454, -0.058999866247177124, -0.21540752053260803, 0.1648433655500412, 0.3037492036819458, 0.2588157653808594, 0.3968321681022644, -0.23864783346652985, 0.8942267894744873, -0.940784215927124, 0.5541196465492249, -0.16857904195785522, 0.5583850741386414, -0.5984111428260803, -0.3379304111003876, 1.0190503597259521, -0.5698039531707764, -0.7217668890953064, 0.47687089443206787, -0.4977536201477051, 0.2503846287727356, 0.04786492884159088, -1.1127359867095947, 0.01780613511800766, 0.6670383810997009, 0.25596481561660767, 0.44374287128448486, 0.2163296341896057, 0.6847921013832092, -0.4078591763973236, 0.869842529296875, 0.493327260017395, 0.0803784430027008, 0.5936091542243958, 0.3930477201938629, -0.381561815738678, 0.37482452392578125, -0.7634727358818054, 0.4220006465911865, -0.6434510946273804, 0.29184600710868835, -0.9917998909950256, -4.399664878845215, 0.04512598365545273, 0.3143691122531891, -0.24363698065280914, 0.2525601387023926, -0.7540491223335266, 0.763272225856781, -0.17696857452392578, -1.0934972763061523, 0.5108697414398193, -0.18302540481090546, 0.8722373247146606, 0.4180906116962433, 0.18356706202030182, 0.21352902054786682, 0.23257896304130554, -0.8792150020599365, -0.5745210647583008, 0.18407610058784485, 0.1426253318786621, -0.9297606945037842, -0.7796432375907898, -0.08097969740629196, -0.3292088210582733, -0.07280134409666061, 0.20465087890625, 0.5718988180160522, -0.7207874059677124, -0.5144757032394409, 0.1992085576057434, 0.2290944755077362, -0.1412586271762848, 0.742648184299469, 0.31935185194015503, -0.051583223044872284, -0.8903845548629761, 0.9142898321151733, -0.7124193906784058, -0.14921468496322632, 0.24910733103752136, 0.932580828666687, -0.907329797744751, -0.04531466215848923, -0.25257113575935364, 0.5204564332962036, -0.5284479856491089, 0.12070082128047943, -0.1742752343416214, 0.1926077902317047, 0.32627928256988525, 0.11169527471065521, -0.39222174882888794, -1.0691349506378174, -0.07001129537820816, 0.032855525612831116, 0.24127808213233948, 0.06029103696346283, 0.21368713676929474, -0.38656535744667053, -0.19795143604278564, 0.24197664856910706, -0.15955272316932678, -0.7192054986953735, -0.838851273059845, 0.291581928730011, -0.3972996771335602, -0.7706846594810486, -1.2878012657165527, 0.7986723780632019, 0.71612149477005, 0.9693751335144043, -0.7716593742370605, -0.04504788666963577, -1.3066096305847168, 0.018632911145687103, -0.3050536513328552, -0.42182067036628723, -0.16757822036743164, 0.2191416472196579, 0.467085599899292, -0.5643815398216248, -0.2658965587615967, 0.7773020267486572, 0.42947715520858765, -0.16229797899723053, -0.3413692116737366, 0.410541296005249, -0.3203195631504059, 0.043111883103847504, -0.3104000985622406, 0.7335246801376343, 0.07900422811508179, -1.045505166053772, 0.07281582802534103, 0.16388842463493347, -0.5940886735916138, -0.5414490699768066, 0.034408554434776306, 0.030812501907348633, -0.7567121982574463, -0.13089904189109802, 0.03524276614189148, 0.1880190074443817, 0.1260872781276703, 0.7458086013793945, -0.5418705940246582, -0.019917182624340057, -0.39833489060401917, 0.815115749835968, -0.11432646960020065, 0.07150033861398697, 0.20374956727027893, 0.2740410268306732, -0.8014592528343201, 0.9105112552642822, -0.029033910483121872, 0.6207712292671204, 0.36019983887672424, 0.5218235850334167, 0.45262542366981506, 0.1156151294708252, -0.1916886866092682, -0.33823639154434204, 0.38005921244621277, -0.2684301733970642, 0.10895968228578568, -0.10798320919275284, -0.1979762762784958, 0.4386473298072815, 0.2125219851732254, 0.09303393959999084, -0.9615865349769592, 0.6371474862098694, 0.437796950340271, 0.7098608016967773, 0.49212196469306946, -0.21108201146125793, -1.4454504251480103, 0.12644556164741516, -0.998638927936554, 0.5244466066360474, 0.09359411150217056, -1.1608996391296387, 0.12538088858127594, -0.40549319982528687, -0.17461198568344116, 0.26593953371047974, 0.09465432167053223, -0.5846801400184631, 0.3607746660709381, 0.3374834656715393, -0.18067774176597595, -0.6529103517532349, -0.9395068883895874, -0.08354618400335312, 0.4995845556259155, 0.2450779527425766, -0.33549031615257263, 0.657535195350647, -0.5644199252128601, 0.3339088261127472, -0.7281370162963867, -0.12195998430252075, -0.026026669889688492, -0.40345317125320435, 0.5292052626609802, -0.2852521538734436, -0.791856586933136, -0.2011619210243225, 0.24073660373687744, 0.013971079140901566, 0.3281950056552887, 0.27922752499580383, 0.18128810822963715, -0.39872169494628906, 0.5892585515975952, -0.15910449624061584, -0.7832003235816956, 0.43525490164756775, 0.3880578577518463, -0.23472385108470917, -0.47728192806243896, 0.284575492143631, -0.08427529782056808, 0.8822378516197205, 0.27382946014404297, -0.6178262233734131, -0.33234167098999023, 0.2979893386363983, 0.2660585045814514, 0.40243491530418396, 0.38880664110183716, -0.38678842782974243, -0.4683662950992584, -0.28806254267692566, -0.8984568119049072, 0.2218324840068817, -0.40508967638015747, 0.002206999808549881, -0.07681789249181747, -0.5869973301887512, 0.20851284265518188, -1.0620992183685303, -0.40418335795402527, 0.2278718650341034, -1.063601016998291, 0.6274598836898804, 0.7890909910202026, -0.6205373406410217, 0.038489386439323425, -0.18113625049591064, -0.7105873227119446, -0.1927584558725357, -0.22814646363258362, -0.41567128896713257, -0.18326666951179504, 0.4414321780204773, -0.5959640741348267, 0.23022541403770447, -0.08772619068622589, -1.0065110921859741, -0.7479506731033325, -1.3403139114379883, 0.6149575710296631, -0.18593251705169678, 0.607874870300293, -0.5394583940505981, 0.10576985776424408, 0.011473625898361206, -0.7793881893157959, 0.5593882203102112, -0.2944163382053375, 0.5201762914657593, 0.4256688058376312, -0.8750115633010864, 0.27179741859436035, -0.21528995037078857, -0.2448567897081375, 0.3828171193599701, -0.1623140275478363, 1.0089894533157349, 0.12085257470607758, -0.5281163454055786, -0.42341989278793335, 0.5073469281196594, 0.16402199864387512, -0.06439678370952606, -0.44575080275535583, -0.2688000500202179, 0.2566576898097992, 0.7798818945884705, -0.2915582060813904, -0.5379886031150818, -0.20000508427619934, 0.06648316234350204, -0.36505770683288574, -0.782366931438446, 1.098233938217163, -0.4021429717540741, -0.006427383050322533, -0.0756501629948616, 0.7719140648841858, -0.5827809572219849, -0.13853782415390015, 0.528293788433075, 0.6664438843727112, 0.3132600784301758, -0.3115973472595215, 0.13001134991645813, 0.20863796770572662, -0.4498399496078491, -0.19220367074012756, 0.3822800815105438, 0.09763914346694946, -0.9823368787765503, -0.6569054126739502, -0.8941812515258789, 0.2912883758544922, 0.9651941061019897, -0.9545474052429199, 0.00031486619263887405, 0.23742151260375977, -0.29512038826942444, -0.08008116483688354, 0.8774899840354919, -0.9143158793449402, -0.1051318421959877, -0.8041733503341675, -0.24018925428390503, 0.5286092758178711, 0.09315203875303268, 0.6142864227294922, -0.3693993091583252, -0.16359534859657288, -0.39729195833206177, 0.19216978549957275, 1.0536623001098633, 1.1036884784698486, -0.45267581939697266, -0.42885422706604004, -0.3704150915145874, 0.61960768699646, -0.007638800889253616, 0.0037635117769241333, 0.26818498969078064, 0.4989204406738281, 0.30768248438835144, -0.8225923180580139, -0.2738075256347656, 0.9586869478225708, 0.3639136850833893, -0.5699869394302368, 0.5046849250793457, 0.896009087562561, -0.25047188997268677, 0.5838944911956787, 0.9246580004692078, -0.8342606425285339, -0.2610606551170349, 0.47066107392311096, -0.08536244928836823, 0.044715821743011475, 0.21998636424541473, -0.09247814118862152, 1.3932819366455078, 0.05982983112335205, 0.03536900132894516, 0.9954673647880554, 0.15130087733268738, 1.5560874938964844, 0.7706996202468872, 0.6126317977905273, 0.337259441614151, 0.262103796005249, 0.851841926574707, -1.3636152744293213, 0.46452173590660095, 0.13798333704471588, -0.8135839104652405, 0.5412372350692749, -0.4379501938819885, 0.021542605012655258, 0.2888168692588806, 0.6510042548179626, 0.01753837987780571, -0.28010985255241394, -0.12067970633506775, 0.09983982145786285, 0.5686534643173218, -0.8859014511108398, 0.32787030935287476, 0.2573893070220947, -0.45284754037857056, -0.7257384657859802, 0.5379149317741394, -0.11218759417533875, 0.09475095570087433, -0.9547633528709412, -0.30752480030059814, 0.0346781462430954, -0.2485361248254776, 0.3136651813983917, 0.7984880805015564, -0.1660124808549881, 0.6477805972099304, -0.32666659355163574, -0.030246205627918243, 0.21908587217330933, -0.013697614893317223, 0.8338861465454102, -0.9867002964019775, 0.23469510674476624, 0.15958774089813232, 0.506683886051178, 0.07775289565324783, -0.32927218079566956, -0.5592738389968872, -0.8265982270240784, -0.12927451729774475, 0.5268953442573547, 0.39855894446372986, 0.3602692484855652, -0.4650034010410309, -0.5573527216911316, 0.10691840946674347, -0.26507511734962463, 0.3375081717967987, 0.0571463480591774, 0.10264045000076294, -0.3933119475841522, 0.6918841600418091, -0.2061668336391449, 0.37650519609451294, 0.044319674372673035, -0.26399385929107666, -0.17699562013149261, 0.5488535165786743, 0.20793861150741577, 0.5217635631561279, 0.2756011486053467, 0.9826521873474121, 0.49769824743270874, -0.215256929397583, 0.7581193447113037, 0.5660891532897949, 0.12482038140296936, -0.23431219160556793, -0.44825446605682373, -1.440370798110962, 0.7085773348808289, 0.22070059180259705, -0.09987488389015198, -0.6937665343284607, 0.2969636917114258, -0.6586813926696777, -0.25276562571525574, 0.397322416305542, 0.6949777603149414, -0.6898645162582397, -0.988886296749115, -0.02828354388475418, 0.7194203734397888, 0.4462336301803589, 0.29402732849121094, 0.0013110488653182983, 0.6610001921653748, -0.5055228471755981, -0.020776530727744102, -0.11171387881040573, 0.7490074634552002, 0.8083357214927673, 0.7518004179000854, -0.23368918895721436, 0.16038426756858826, -0.8566542267799377, -0.5297186970710754, -0.629017174243927, 0.8003845810890198, 0.5119013786315918, -0.5844541192054749, 0.3692362308502197, -0.24338456988334656, 0.4219787120819092, 0.7316946387290955, -0.37145817279815674, -0.0570669025182724, -0.9618692398071289, 0.18347477912902832, -0.9569389224052429, 0.18946793675422668, 0.008541546761989594, -0.10738293826580048, 0.6286908984184265, -0.2705703675746918, -0.2232065200805664, -0.3451354205608368, -0.008434884250164032, 0.09796541929244995, 0.42870962619781494, 0.2831934094429016], [-0.2586841881275177, -0.0014477688819169998, 0.6834903955459595, -0.7732499241828918, 0.41916197538375854, 0.45549923181533813, 0.637217104434967, -0.23866450786590576, 0.07697393000125885, -0.899596095085144, -0.5816589593887329, -0.03165386617183685, -1.1537792682647705, 0.34322941303253174, 0.25463107228279114, 0.7959439158439636, 0.3170582950115204, 0.6136547923088074, -0.3089875280857086, 0.40407004952430725, 0.006880957633256912, -0.698559582233429, -0.0014655087143182755, 0.5510119199752808, 1.0304043292999268, -0.2543274760246277, 0.7103003859519958, -0.06423740088939667, -0.26343482732772827, -0.1548912674188614, 0.6037305593490601, 0.03499790281057358, 0.32613369822502136, -1.172931432723999, 0.47715020179748535, 0.2829350531101227, 0.17417478561401367, 0.38049447536468506, -0.5697653293609619, 0.44743669033050537, 0.04102475196123123, -0.6295532584190369, -0.2200811356306076, -0.12495344877243042, -0.9433720111846924, -1.1217186450958252, -0.2485893964767456, 1.2141509056091309, -0.2654152810573578, -0.7074601650238037, -0.7640210390090942, 0.6066393852233887, -0.18452098965644836, 0.3111285865306854, 0.17642053961753845, 0.6973980665206909, -0.6968135833740234, -0.5059733390808105, -0.36047202348709106, -0.7382473349571228, -0.3104705512523651, 0.45895928144454956, 0.4898883104324341, -0.8983104228973389, -0.7391331791877747, 0.7099067568778992, -0.32507044076919556, 0.19066573679447174, -1.0236998796463013, -0.9403138756752014, 0.4062745273113251, 0.23199161887168884, -0.5293036103248596, -0.3793013095855713, 0.29569149017333984, -0.2027273327112198, -0.16380025446414948, -0.4144675135612488, 0.8819563984870911, 0.8675876259803772, 0.2329726219177246, -0.7107045650482178, 0.4493855834007263, 1.124251365661621, 0.6176941394805908, -0.5708798766136169, -0.07745128124952316, 0.40227657556533813, -1.478063941001892, 1.4468218088150024, 0.3531549870967865, -0.5254565477371216, 0.47255903482437134, 0.9398036599159241, 0.49472928047180176, -0.2834204435348511, 0.27926647663116455, -0.03152270242571831, -0.1833007037639618, -0.04052319377660751, -0.08599218726158142, -0.5046907663345337, -0.7096670269966125, -0.8032482266426086, -1.469828724861145, -0.19350959360599518, 0.3439745306968689, -0.215655118227005, -0.07346837222576141, -0.6474002003669739, -0.6457159519195557, -0.45810815691947937, -0.537325382232666, 0.4656396806240082, -0.9186582565307617, 1.7825578451156616, 0.35800039768218994, -0.4814947545528412, -0.7463567852973938, -0.5678360462188721, 0.758012592792511, 0.8602795600891113, 0.6102867126464844, 2.0296878814697266, 0.0381239652633667, 0.6191828846931458, -0.6755697131156921, 0.5451533794403076, -0.32896989583969116, -0.4148502051830292, 0.014590436592698097, 0.9667605757713318, 0.7439896464347839, 0.08626885712146759, 0.7939019799232483, -0.22740209102630615, 0.24144071340560913, -0.2529493570327759, 0.6851140856742859, -0.4866338074207306, 0.4599405825138092, 0.2228713035583496, 0.21516960859298706, -0.1822928935289383, 0.9828377366065979, -0.7015764117240906, 0.08146773278713226, -0.7232402563095093, -0.4108920395374298, -0.6732742786407471, 0.18293540179729462, 0.07097281515598297, -0.32989487051963806, -1.164496898651123, 0.0641268864274025, 0.8541813492774963, -0.31786468625068665, 0.2803749740123749, -0.03602023422718048, 0.024263959378004074, 0.45510101318359375, -0.45445939898490906, -0.568423867225647, 0.5852558016777039, 0.2835391163825989, -0.024507496505975723, 0.9281362295150757, 0.416534960269928, -0.15516045689582825, 0.6447882056236267, -0.7079440355300903, 0.07238239794969559, 0.318515807390213, -0.12617257237434387, -0.1694488227367401, 0.38211241364479065, 1.5014222860336304, -0.09735865145921707, 0.18367190659046173, -0.24565619230270386, -4.209657669067383, 0.9000455141067505, 0.28779318928718567, 0.11507061123847961, -0.0039035100489854813, -0.56941157579422, 0.7699665427207947, -0.9314903020858765, 0.5999429225921631, 0.25721341371536255, -1.2394587993621826, -0.11558257043361664, -0.29157012701034546, -0.5060832500457764, 1.0431654453277588, 0.2766259014606476, -0.4957805871963501, 0.7405153512954712, 0.13516664505004883, 0.5077337026596069, -0.4340163469314575, 0.6565213799476624, 0.0811515673995018, 0.2707660496234894, -0.8368648886680603, -0.2261214256286621, 0.46663615107536316, 0.3443603515625, -0.7845475077629089, 0.312391996383667, -0.29779279232025146, 0.5770348310470581, 0.11097843199968338, -0.08773277699947357, -0.48250603675842285, 0.260248601436615, 0.37132513523101807, -0.9789313077926636, -0.21373234689235687, -0.15476876497268677, 0.7487931251525879, 0.11751534044742584, -0.8500282764434814, 0.4663459360599518, 0.09865419566631317, 0.4145566523075104, 1.2843632698059082, -0.6783236265182495, -0.16655808687210083, -0.3245164453983307, -0.6713269948959351, -0.4815426766872406, 0.6324624419212341, -0.11613935232162476, 0.32266929745674133, 0.0824919193983078, 1.0615867376327515, -0.048102956265211105, 0.712243914604187, -1.3404117822647095, -0.9530705213546753, 0.7845945954322815, 1.0542652606964111, 0.8121058344841003, -0.6639501452445984, 0.03232365846633911, 0.5267051458358765, -0.29151761531829834, 0.35700833797454834, 0.7965865731239319, -0.3854009211063385, 0.1974279284477234, -0.2993116080760956, -0.11643768846988678, -0.3110198378562927, -0.9164780378341675, -0.2710971534252167, -0.33195024728775024, 0.4784412384033203, 0.3101155161857605, 0.5877374410629272, -0.47343647480010986, -0.11720479279756546, 0.6812340021133423, -1.4652172327041626, -1.4172227382659912, -0.9204708337783813, -0.20892202854156494, 0.009138282388448715, 0.6336861848831177, 0.5432854890823364, -0.005195800215005875, 0.21286574006080627, -0.07398392260074615, 0.9304587841033936, -0.7186812162399292, 0.9648175239562988, -0.44888168573379517, 0.321364164352417, -0.6963452100753784, -0.30888989567756653, 1.3659162521362305, -0.4537586569786072, -1.0102014541625977, 0.16708850860595703, -0.8623356223106384, 0.04436028003692627, -0.013711750507354736, -1.2933341264724731, -0.06219618022441864, 0.6475673317909241, 0.29929351806640625, 0.07726548612117767, 0.24956509470939636, 0.51676344871521, -0.1882070153951645, 1.2212353944778442, 0.7319590449333191, 0.5124258399009705, -0.11165060847997665, 0.4050179719924927, -0.6902335286140442, 0.010244399309158325, -0.7013347148895264, 0.32570791244506836, -0.8672865033149719, 0.031873852014541626, -1.1502885818481445, -1.448855996131897, 0.0021414197981357574, 0.30644115805625916, -0.6855968236923218, 0.6159918904304504, -0.35226383805274963, 0.5713739991188049, -0.5219236612319946, -1.1049654483795166, 0.6272125840187073, 0.05231150984764099, 0.5178942680358887, 0.796190619468689, 0.4341971278190613, 0.8222931623458862, 0.03998807072639465, -0.9264901876449585, -0.8884386420249939, 0.10374440252780914, -0.162800595164299, -0.9296687841415405, -0.9661067724227905, 0.07864896953105927, -0.08655036240816116, -0.11507794260978699, 0.01818632334470749, -0.09756842255592346, -0.8954257965087891, -1.0395689010620117, -0.26412665843963623, 0.16795271635055542, -0.07777589559555054, 0.614716112613678, 0.10268023610115051, -0.14246532320976257, -0.7869523167610168, 1.362898349761963, -0.6809542179107666, -0.5440451502799988, 0.2271113395690918, 0.8129647970199585, -1.0337634086608887, -0.6235934495925903, -0.40673619508743286, 0.3699484169483185, -0.3453696668148041, -0.21444924175739288, -0.18952606618404388, 0.011070509441196918, 0.8028417825698853, 0.2620580196380615, -0.20010672509670258, -0.8407948017120361, 0.0814979150891304, -0.11114198714494705, 0.40706056356430054, -0.31751948595046997, 0.3180640637874603, -0.36862775683403015, -0.229396790266037, 0.01769160106778145, -0.47244343161582947, -1.1332898139953613, -0.9458271265029907, 0.28490617871284485, -0.974100649356842, -0.5123181343078613, -1.5206739902496338, 1.1853643655776978, 1.263586401939392, 1.1963776350021362, -0.8010175824165344, -0.44466012716293335, -0.7646269202232361, 0.014011163264513016, -0.3925594091415405, -0.26812058687210083, -0.23906704783439636, 0.1711132973432541, 0.40968477725982666, -0.6546902060508728, -0.6534222960472107, 0.43082335591316223, 0.4519234001636505, -0.22856396436691284, -0.497612327337265, 0.2121383249759674, -0.5952371954917908, -0.4600410461425781, -0.5448108315467834, 0.7590769529342651, -0.2158428132534027, -0.8297247290611267, -0.2260769158601761, 0.04583076387643814, -0.7818717360496521, -0.6378055214881897, 0.3514097332954407, 0.4112982153892517, -0.649759829044342, 0.437224417924881, -0.12218733876943588, 0.5724776387214661, -0.0350835882127285, 0.5434208512306213, -0.7200160622596741, -0.5692688226699829, -0.31739240884780884, 1.2730200290679932, 0.17360691726207733, 0.17554739117622375, -0.2111005187034607, 0.3619637191295624, -1.0485436916351318, 0.8696027994155884, -0.5702304840087891, 0.5513023734092712, 0.9142826199531555, 0.6340650320053101, 0.41021549701690674, -0.027888566255569458, 0.19898729026317596, -0.720875084400177, -0.0368318110704422, -0.5873516798019409, -0.0480150431394577, -0.07300427556037903, -0.25618618726730347, 0.5333530902862549, 0.4017976224422455, -0.011788710951805115, -0.6177792549133301, 0.701878011226654, 0.5469937920570374, 0.7514488101005554, 0.5229840874671936, -0.24479560554027557, -1.294619083404541, -0.06447919458150864, -0.5037965774536133, 0.5677523016929626, 0.2263597995042801, -1.2763643264770508, 0.06464225053787231, -0.15062549710273743, -0.039635494351387024, -0.17193317413330078, -0.05515575781464577, -0.5753289461135864, 0.44189512729644775, 0.38564684987068176, -0.17502951622009277, -0.6464862823486328, -1.0154082775115967, 0.0969647467136383, 0.24985665082931519, 0.39845478534698486, -0.4506731927394867, 0.7291181087493896, -0.763348400592804, 0.4851611256599426, -0.7916505932807922, -0.25073176622390747, -0.10946992039680481, -0.531895637512207, 0.6799201369285583, 0.027575142681598663, -1.02572500705719, -0.16659429669380188, 0.2224624902009964, 0.26970747113227844, -0.025500737130641937, -0.05507228523492813, 0.005455490201711655, -0.5206695199012756, 0.7898019552230835, -0.5852373242378235, -0.8330222964286804, 0.5426143407821655, 0.345425546169281, -0.10329513996839523, -0.4614281952381134, 0.43586161732673645, -0.37375178933143616, 1.0885894298553467, 0.26425525546073914, -0.5004565119743347, -0.8483337759971619, -0.11645348370075226, 0.5567417144775391, 0.7358262538909912, 0.05510786920785904, -0.09699641168117523, -0.10086853057146072, -0.6073652505874634, -1.0970810651779175, 0.4676315188407898, -0.1577850878238678, -0.055988043546676636, 0.11716872453689575, -0.23362146317958832, 0.42302069067955017, -1.040381908416748, -0.4944756031036377, -0.2739594876766205, -1.4324278831481934, 0.7635667324066162, 0.5619280934333801, -0.11240261048078537, 0.22174854576587677, -0.3305732011795044, -0.5883516073226929, -0.9974033236503601, -0.33651912212371826, -0.1610434502363205, -0.3357720673084259, 0.716363787651062, -0.7104507684707642, 0.8024944067001343, 0.18466538190841675, -0.7096867561340332, -0.45506930351257324, -1.299007534980774, 0.16036613285541534, -0.453275591135025, 0.6402007937431335, -0.4217844605445862, 0.2585489749908447, -0.27809837460517883, -0.4523356556892395, 0.7662959098815918, -0.7159823775291443, 0.6773536801338196, 0.5814950466156006, -0.753017008304596, 0.17954151332378387, -0.07212407886981964, -0.19968664646148682, -0.12626029551029205, -0.056900471448898315, 0.9308530688285828, 0.21713301539421082, -0.5547771453857422, -0.7634015083312988, 0.43405619263648987, 0.1587865650653839, -0.018324576318264008, 0.0889948233962059, -0.5838427543640137, 0.32215309143066406, 0.7312933802604675, -0.2637537717819214, -0.37119346857070923, -0.11496257781982422, 0.2951717674732208, -0.28106260299682617, -1.1968799829483032, 0.9245671033859253, -0.2728446125984192, -0.22615669667720795, 0.3905014991760254, 0.38285961747169495, -0.43704962730407715, -0.02961750328540802, 0.9785391092300415, 0.5328526496887207, 0.4439164400100708, -0.11795095354318619, 0.3703189492225647, 0.29258298873901367, -0.1651204526424408, -0.6496351361274719, 0.2062506079673767, 0.2748744785785675, -0.3064667880535126, -0.28732550144195557, -1.0457643270492554, 0.28952279686927795, 0.805615246295929, -1.2650460004806519, -0.10132963210344315, 0.5013062357902527, -0.4832063615322113, 0.37134265899658203, 1.0045318603515625, -1.09078848361969, -0.22374682128429413, -0.6613560318946838, -0.40243270993232727, 0.6941654086112976, 0.0959576740860939, 0.6742591261863708, -0.30326294898986816, -0.11997650563716888, -0.5639484524726868, -0.08676284551620483, 1.2060205936431885, 1.754317045211792, -0.13356387615203857, -0.21331733465194702, -0.42560407519340515, 0.8968363404273987, 0.25486698746681213, -0.07858040183782578, -0.14975793659687042, 0.492696076631546, 0.37898752093315125, -0.985821008682251, -0.02972549945116043, 0.5567575097084045, 0.7368351817131042, -0.9201210141181946, 0.48812758922576904, 1.1309207677841187, -0.6898809671401978, 0.4950515627861023, 1.181962251663208, -0.6623531579971313, -0.1090054139494896, 0.37692639231681824, -0.3073207139968872, 0.18943104147911072, 0.41914474964141846, 0.22291867434978485, 1.6622885465621948, 0.24248939752578735, -0.23205868899822235, 0.7743188738822937, 0.2901264727115631, 1.654373049736023, 0.8081066608428955, 0.6667230725288391, 0.7254763245582581, 0.7831805348396301, 1.1628382205963135, -1.7268836498260498, 0.4168422818183899, 0.24414533376693726, -0.5126903057098389, 0.20516560971736908, -0.12999582290649414, 0.04386437311768532, 0.2488327920436859, 0.9535447955131531, -0.08312791585922241, -0.33047711849212646, 0.38013383746147156, -0.04742081090807915, 0.7509047985076904, -1.0396336317062378, 0.8801325559616089, 0.29936105012893677, -0.4665285646915436, -0.9198886156082153, 0.19079940021038055, 0.19147078692913055, 0.37650159001350403, -0.5781294107437134, -0.6702302098274231, 0.12921755015850067, -0.08268238604068756, 0.6040803790092468, 1.3406848907470703, -0.46330589056015015, 0.2803066670894623, -0.004828948527574539, 0.04523356258869171, -0.07658601552248001, -0.08860503137111664, 0.946714460849762, -0.9965130090713501, 0.3520295321941376, 0.14253079891204834, 0.23583415150642395, 0.11946019530296326, 0.08312791585922241, -0.4233623743057251, -0.36854061484336853, -0.15931712090969086, 0.8662520051002502, 0.49970176815986633, 0.32336822152137756, -0.44249412417411804, -0.425264835357666, -0.3972606062889099, -0.27543264627456665, -0.3220004439353943, -0.034684211015701294, -0.03795156627893448, -0.5775335431098938, 0.7649601697921753, -0.2691749930381775, 0.31685352325439453, 0.28756776452064514, -0.538007378578186, -0.28439563512802124, 0.7086154222488403, 0.8010777235031128, 0.2800564169883728, 0.5071590542793274, 1.5047502517700195, 0.7102434635162354, -0.3321700692176819, 0.46202683448791504, 0.5318040251731873, 0.30276840925216675, -0.15279310941696167, -0.14678652584552765, -1.7652524709701538, 0.7543211579322815, 0.4306110441684723, -0.5433211922645569, -3.189484119415283, 0.7021269202232361, -1.2441012859344482, -0.027295798063278198, 0.7662956714630127, 0.7521439790725708, -0.5687634348869324, -0.8372421860694885, -0.4576925039291382, 0.4820118546485901, 0.5050399899482727, 0.941849410533905, 0.3449420630931854, 0.8035721778869629, -0.6610109806060791, -0.18278543651103973, -0.48141971230506897, 1.1783119440078735, 1.2515742778778076, 0.5117895007133484, -0.6778979301452637, 0.37984365224838257, -0.7902980446815491, -0.7436947822570801, -0.7022042274475098, 0.734317421913147, 0.18605658411979675, -0.7970985174179077, 0.18843266367912292, -0.07085862755775452, 0.5300050973892212, 0.45291730761528015, -0.29989251494407654, -0.18158328533172607, -1.0132310390472412, -0.23132866621017456, -1.0571528673171997, 0.6106590628623962, 0.021822936832904816, -0.30850228667259216, 0.8100727796554565, -0.3358951210975647, -0.1708744466304779, -0.522728681564331, 0.09807071089744568, 0.22698001563549042, 0.2686839997768402, 0.06411729753017426]]\n"
     ]
    }
   ],
   "source": [
    "## Feature Extraction (Embeddings)\n",
    "feature_extractor = pipeline(\"feature-extraction\", model=\"BAAI/bge-base-en-v1.5\")\n",
    "vector = feature_extractor(\"Hugging Face is awesome!\")\n",
    "print(vector[0])"
   ]
  },
  {
   "cell_type": "code",
   "execution_count": 12,
   "id": "b5ca6725",
   "metadata": {},
   "outputs": [
    {
     "name": "stderr",
     "output_type": "stream",
     "text": [
      "c:\\Users\\SV937CY\\bias_1\\Lib\\site-packages\\transformers\\generation\\utils.py:1220: UserWarning: Using the model-agnostic default `max_length` (=20) to control the generation length. We recommend setting `max_new_tokens` to control the maximum length of the generation.\n",
      "  warnings.warn(\n"
     ]
    },
    {
     "name": "stdout",
     "output_type": "stream",
     "text": [
      "[{'generated_text': \"Je m'aime tu\"}]\n"
     ]
    }
   ],
   "source": [
    "## Text2Text Generation\n",
    "text2text = pipeline(\"text2text-generation\", model=\"google/flan-t5-base\")\n",
    "print(text2text(\"Translate English to French: I love you\"))"
   ]
  },
  {
   "cell_type": "code",
   "execution_count": 14,
   "id": "38c422e5",
   "metadata": {},
   "outputs": [
    {
     "name": "stdout",
     "output_type": "stream",
     "text": [
      "[{'score': 0.14268764853477478, 'token': 16766, 'token_str': 'marseille', 'sequence': 'the capital of france is marseille.'}, {'score': 0.09020446240901947, 'token': 25387, 'token_str': 'nantes', 'sequence': 'the capital of france is nantes.'}, {'score': 0.0880827009677887, 'token': 17209, 'token_str': 'toulouse', 'sequence': 'the capital of france is toulouse.'}, {'score': 0.08617933094501495, 'token': 3000, 'token_str': 'paris', 'sequence': 'the capital of france is paris.'}, {'score': 0.07720646262168884, 'token': 10241, 'token_str': 'lyon', 'sequence': 'the capital of france is lyon.'}]\n"
     ]
    }
   ],
   "source": [
    "## Fill-Mask\n",
    "fill_mask = pipeline(\"fill-mask\", model=\"distilbert/distilbert-base-uncased\")\n",
    "print(fill_mask(\"The capital of France is [MASK].\"))  # Uses models like BERT\n"
   ]
  },
  {
   "cell_type": "code",
   "execution_count": null,
   "id": "b024fd34",
   "metadata": {},
   "outputs": [],
   "source": [
    "### Model loading without pipeline"
   ]
  },
  {
   "cell_type": "code",
   "execution_count": 15,
   "id": "e76c9ff6",
   "metadata": {},
   "outputs": [
    {
     "data": {
      "application/vnd.jupyter.widget-view+json": {
       "model_id": "e4510b1ecb06459cb1bfa6263dbc4480",
       "version_major": 2,
       "version_minor": 0
      },
      "text/plain": [
       "tokenizer_config.json:   0%|          | 0.00/48.0 [00:00<?, ?B/s]"
      ]
     },
     "metadata": {},
     "output_type": "display_data"
    },
    {
     "name": "stderr",
     "output_type": "stream",
     "text": [
      "c:\\Users\\SV937CY\\bias_1\\Lib\\site-packages\\huggingface_hub\\file_download.py:139: UserWarning: `huggingface_hub` cache-system uses symlinks by default to efficiently store duplicated files but your machine does not support them in C:\\Users\\SV937CY\\.cache\\huggingface\\hub\\models--distilbert-base-uncased-finetuned-sst-2-english. Caching files will still work but in a degraded version that might require more space on your disk. This warning can be disabled by setting the `HF_HUB_DISABLE_SYMLINKS_WARNING` environment variable. For more details, see https://huggingface.co/docs/huggingface_hub/how-to-cache#limitations.\n",
      "To support symlinks on Windows, you either need to activate Developer Mode or to run Python as an administrator. In order to activate developer mode, see this article: https://docs.microsoft.com/en-us/windows/apps/get-started/enable-your-device-for-development\n",
      "  warnings.warn(message)\n"
     ]
    },
    {
     "data": {
      "application/vnd.jupyter.widget-view+json": {
       "model_id": "5c3d8a7ca99f4b3a90f885cc7d87f061",
       "version_major": 2,
       "version_minor": 0
      },
      "text/plain": [
       "config.json:   0%|          | 0.00/629 [00:00<?, ?B/s]"
      ]
     },
     "metadata": {},
     "output_type": "display_data"
    },
    {
     "data": {
      "application/vnd.jupyter.widget-view+json": {
       "model_id": "5abc155f6633457e9b69312fe2d7396d",
       "version_major": 2,
       "version_minor": 0
      },
      "text/plain": [
       "vocab.txt:   0%|          | 0.00/232k [00:00<?, ?B/s]"
      ]
     },
     "metadata": {},
     "output_type": "display_data"
    },
    {
     "data": {
      "application/vnd.jupyter.widget-view+json": {
       "model_id": "b92e02ad4b2f41189d5c596b35eab0af",
       "version_major": 2,
       "version_minor": 0
      },
      "text/plain": [
       "model.safetensors:   0%|          | 0.00/268M [00:00<?, ?B/s]"
      ]
     },
     "metadata": {},
     "output_type": "display_data"
    },
    {
     "name": "stdout",
     "output_type": "stream",
     "text": [
      "POSITIVE\n"
     ]
    }
   ],
   "source": [
    "# ✅ 1. Text Classification\n",
    "from transformers import AutoTokenizer, AutoModelForSequenceClassification\n",
    "import torch\n",
    "\n",
    "text = \"I love this phone! It's amazing.\"\n",
    "tokenizer = AutoTokenizer.from_pretrained(\"distilbert-base-uncased-finetuned-sst-2-english\")\n",
    "model = AutoModelForSequenceClassification.from_pretrained(\"distilbert-base-uncased-finetuned-sst-2-english\")\n",
    "\n",
    "inputs = tokenizer(text, return_tensors=\"pt\")\n",
    "with torch.no_grad():\n",
    "    logits = model(**inputs).logits\n",
    "    predicted_class = torch.argmax(logits).item()\n",
    "    label = model.config.id2label[predicted_class]\n",
    "    print(label)\n",
    "\n"
   ]
  },
  {
   "cell_type": "code",
   "execution_count": 16,
   "id": "14498668",
   "metadata": {},
   "outputs": [
    {
     "name": "stderr",
     "output_type": "stream",
     "text": [
      "Some weights of the model checkpoint at dslim/bert-base-NER were not used when initializing BertForTokenClassification: ['bert.pooler.dense.bias', 'bert.pooler.dense.weight']\n",
      "- This IS expected if you are initializing BertForTokenClassification from the checkpoint of a model trained on another task or with another architecture (e.g. initializing a BertForSequenceClassification model from a BertForPreTraining model).\n",
      "- This IS NOT expected if you are initializing BertForTokenClassification from the checkpoint of a model that you expect to be exactly identical (initializing a BertForSequenceClassification model from a BertForSequenceClassification model).\n"
     ]
    },
    {
     "name": "stdout",
     "output_type": "stream",
     "text": [
      "[CLS]: O\n",
      "Hu: B-ORG\n",
      "##gging: I-ORG\n",
      "Face: I-ORG\n",
      "is: O\n",
      "based: O\n",
      "in: O\n",
      "New: B-LOC\n",
      "York: I-LOC\n",
      ".: O\n",
      "[SEP]: O\n"
     ]
    }
   ],
   "source": [
    "# ✅ 2. Token Classification (NER)\n",
    "from transformers import AutoTokenizer, AutoModelForTokenClassification\n",
    "from transformers import TokenClassificationPipeline\n",
    "\n",
    "text = \"Hugging Face is based in New York.\"\n",
    "tokenizer = AutoTokenizer.from_pretrained(\"dslim/bert-base-NER\")\n",
    "model = AutoModelForTokenClassification.from_pretrained(\"dslim/bert-base-NER\")\n",
    "\n",
    "tokens = tokenizer(text, return_tensors=\"pt\")\n",
    "with torch.no_grad():\n",
    "    outputs = model(**tokens).logits\n",
    "predictions = torch.argmax(outputs, dim=2)\n",
    "\n",
    "for token, pred in zip(tokenizer.convert_ids_to_tokens(tokens['input_ids'][0]), predictions[0]):\n",
    "    label = model.config.id2label[pred.item()]\n",
    "    print(f\"{token}: {label}\")\n",
    "\n",
    "\n"
   ]
  },
  {
   "cell_type": "code",
   "execution_count": 39,
   "id": "93ab58fa",
   "metadata": {},
   "outputs": [
    {
     "name": "stdout",
     "output_type": "stream",
     "text": [
      "Raw predictions: ([[(2, 2)], [(0, 1)]],)\n",
      "A: 69, 56\n",
      "\n"
     ]
    }
   ],
   "source": [
    "from transformers import AutoTokenizer, TapasForQuestionAnswering\n",
    "import pandas as pd\n",
    "import torch\n",
    "\n",
    "# Load tokenizer and model\n",
    "tokenizer = AutoTokenizer.from_pretrained(\"google/tapas-base-finetuned-wtq\")\n",
    "model = TapasForQuestionAnswering.from_pretrained(\"google/tapas-base-finetuned-wtq\")\n",
    "\n",
    "# Table\n",
    "data = {\n",
    "    \"Actors\": [\"Brad Pitt\", \"Leonardo Di Caprio\", \"George Clooney\"],\n",
    "    \"Age\": [\"56\", \"45\", \"59\"],\n",
    "    \"Number of movies\": [\"87\", \"53\", \"69\"],\n",
    "}\n",
    "table = pd.DataFrame.from_dict(data)\n",
    "\n",
    "# Queries\n",
    "queries = [\n",
    "    \"How many movies has George Clooney played in?\",\n",
    "    \"How old is Brad Pitt?\"\n",
    "]\n",
    "\n",
    "# Encode\n",
    "inputs = tokenizer(table=table, queries=queries, padding=\"max_length\", return_tensors=\"pt\")\n",
    "\n",
    "# Predict\n",
    "with torch.no_grad():\n",
    "    outputs = model(**inputs)\n",
    "    predictions = tokenizer.convert_logits_to_predictions(inputs, outputs.logits)\n",
    "\n",
    "# 🔍 DEBUG: View predictions\n",
    "print(\"Raw predictions:\", predictions)\n",
    "\n",
    "# Format answers\n",
    "for query, answer_coords in zip(queries, predictions):\n",
    "    if not answer_coords or not answer_coords[0]:\n",
    "        print(f\"Q: {query}\\nA: Not found\\n\")\n",
    "        continue\n",
    "\n",
    "    # Flatten and extract\n",
    "    answers = []\n",
    "    for group in answer_coords:\n",
    "        for (row, col) in group:\n",
    "            answers.append(str(table.iat[row, col]))\n",
    "\n",
    "    print(f\"A: {', '.join(answers)}\\n\")\n"
   ]
  },
  {
   "cell_type": "code",
   "execution_count": 23,
   "id": "5a3e193a",
   "metadata": {},
   "outputs": [
    {
     "data": {
      "application/vnd.jupyter.widget-view+json": {
       "model_id": "337559771c0a4b0885047de63cc220ef",
       "version_major": 2,
       "version_minor": 0
      },
      "text/plain": [
       "tokenizer_config.json:   0%|          | 0.00/49.0 [00:00<?, ?B/s]"
      ]
     },
     "metadata": {},
     "output_type": "display_data"
    },
    {
     "name": "stderr",
     "output_type": "stream",
     "text": [
      "c:\\Users\\SV937CY\\bias_1\\Lib\\site-packages\\huggingface_hub\\file_download.py:139: UserWarning: `huggingface_hub` cache-system uses symlinks by default to efficiently store duplicated files but your machine does not support them in C:\\Users\\SV937CY\\.cache\\huggingface\\hub\\models--distilbert-base-cased-distilled-squad. Caching files will still work but in a degraded version that might require more space on your disk. This warning can be disabled by setting the `HF_HUB_DISABLE_SYMLINKS_WARNING` environment variable. For more details, see https://huggingface.co/docs/huggingface_hub/how-to-cache#limitations.\n",
      "To support symlinks on Windows, you either need to activate Developer Mode or to run Python as an administrator. In order to activate developer mode, see this article: https://docs.microsoft.com/en-us/windows/apps/get-started/enable-your-device-for-development\n",
      "  warnings.warn(message)\n"
     ]
    },
    {
     "data": {
      "application/vnd.jupyter.widget-view+json": {
       "model_id": "3b2126da9a4f480eb3efecc5d42c9de3",
       "version_major": 2,
       "version_minor": 0
      },
      "text/plain": [
       "config.json:   0%|          | 0.00/473 [00:00<?, ?B/s]"
      ]
     },
     "metadata": {},
     "output_type": "display_data"
    },
    {
     "data": {
      "application/vnd.jupyter.widget-view+json": {
       "model_id": "c0222e66d05345a0877a0fe00586b72a",
       "version_major": 2,
       "version_minor": 0
      },
      "text/plain": [
       "vocab.txt:   0%|          | 0.00/213k [00:00<?, ?B/s]"
      ]
     },
     "metadata": {},
     "output_type": "display_data"
    },
    {
     "data": {
      "application/vnd.jupyter.widget-view+json": {
       "model_id": "165b17bfe6754e14bd3fdbd0268f7b46",
       "version_major": 2,
       "version_minor": 0
      },
      "text/plain": [
       "tokenizer.json:   0%|          | 0.00/436k [00:00<?, ?B/s]"
      ]
     },
     "metadata": {},
     "output_type": "display_data"
    },
    {
     "data": {
      "application/vnd.jupyter.widget-view+json": {
       "model_id": "ff613f8f4456488b8e1952d71920c620",
       "version_major": 2,
       "version_minor": 0
      },
      "text/plain": [
       "model.safetensors:   0%|          | 0.00/261M [00:00<?, ?B/s]"
      ]
     },
     "metadata": {},
     "output_type": "display_data"
    },
    {
     "name": "stdout",
     "output_type": "stream",
     "text": [
      "Paris\n"
     ]
    }
   ],
   "source": [
    "# ✅ 4. Paragraph QA\n",
    "from transformers import AutoTokenizer, AutoModelForQuestionAnswering\n",
    "\n",
    "context = \"Paris is the capital of France.\"\n",
    "question = \"What is the capital of France?\"\n",
    "model_name = \"distilbert-base-cased-distilled-squad\"\n",
    "tokenizer = AutoTokenizer.from_pretrained(model_name)\n",
    "model = AutoModelForQuestionAnswering.from_pretrained(model_name)\n",
    "\n",
    "inputs = tokenizer(question, context, return_tensors=\"pt\")\n",
    "with torch.no_grad():\n",
    "    outputs = model(**inputs)\n",
    "    answer_start = torch.argmax(outputs.start_logits)\n",
    "    answer_end = torch.argmax(outputs.end_logits) + 1\n",
    "    answer = tokenizer.convert_tokens_to_string(tokenizer.convert_ids_to_tokens(inputs['input_ids'][0][answer_start:answer_end]))\n",
    "    print(answer)\n",
    "\n"
   ]
  },
  {
   "cell_type": "code",
   "execution_count": 24,
   "id": "a052adbb",
   "metadata": {},
   "outputs": [
    {
     "name": "stdout",
     "output_type": "stream",
     "text": [
      "{'sequence': 'I enjoy painting.', 'labels': ['art', 'sports', 'politics'], 'scores': [0.9947479367256165, 0.0031351102516055107, 0.0021169448737055063]}\n"
     ]
    }
   ],
   "source": [
    "# ✅ 5. Zero-shot Classification\n",
    "from transformers import AutoModelForSequenceClassification, AutoTokenizer\n",
    "from transformers import pipeline\n",
    "\n",
    "sequence = \"I enjoy painting.\"\n",
    "candidate_labels = [\"art\", \"sports\", \"politics\"]\n",
    "\n",
    "classifier = pipeline(\"zero-shot-classification\", model=\"facebook/bart-large-mnli\")\n",
    "print(classifier(sequence, candidate_labels))\n",
    "\n"
   ]
  },
  {
   "cell_type": "code",
   "execution_count": 45,
   "id": "2e25e392",
   "metadata": {},
   "outputs": [
    {
     "name": "stdout",
     "output_type": "stream",
     "text": [
      "Input: translate English to French: I love learning AI with Hugging Face.\n",
      "🇫🇷 Translated: J'aime apprendre l'AI avec Hugging Face.\n"
     ]
    }
   ],
   "source": [
    "# ✅ 6. Translation\n",
    "from transformers import AutoTokenizer, AutoModelForSeq2SeqLM\n",
    "\n",
    "# Load T5 tokenizer and model\n",
    "tokenizer = AutoTokenizer.from_pretrained(\"google-t5/t5-base\")\n",
    "model = AutoModelForSeq2SeqLM.from_pretrained(\"google-t5/t5-base\")\n",
    "\n",
    "# Define the input (prefix + sentence for translation)\n",
    "input_text = \"translate English to French: I love learning AI with Hugging Face.\"\n",
    "inputs = tokenizer(input_text, return_tensors=\"pt\")\n",
    "\n",
    "# Generate translation\n",
    "outputs = model.generate(**inputs, max_length=40, num_beams=4, early_stopping=True)\n",
    "\n",
    "# Decode output\n",
    "translated_text = tokenizer.decode(outputs[0], skip_special_tokens=True)\n",
    "\n",
    "# Show result\n",
    "print(\"Input:\", input_text)\n",
    "print(\"🇫🇷 Translated:\", translated_text)\n"
   ]
  },
  {
   "cell_type": "code",
   "execution_count": 41,
   "id": "29dc83f8",
   "metadata": {},
   "outputs": [
    {
     "name": "stdout",
     "output_type": "stream",
     "text": [
      "Hugging Face is a company that develops tools for NLP. They created the Transformers library...\n"
     ]
    }
   ],
   "source": [
    "# ✅ 7. Summarization\n",
    "# Load model directly\n",
    "from transformers import AutoTokenizer, AutoModelForSeq2SeqLM\n",
    "\n",
    "tokenizer = AutoTokenizer.from_pretrained(\"Falconsai/text_summarization\")\n",
    "model = AutoModelForSeq2SeqLM.from_pretrained(\"Falconsai/text_summarization\")\n",
    "\n",
    "text = \"\"\"Hugging Face is a company that develops tools for NLP. They created the Transformers library...\"\"\"\n",
    "\n",
    "inputs = tokenizer(text, return_tensors=\"pt\", max_length=1024, truncation=True)\n",
    "summary_ids = model.generate(inputs[\"input_ids\"], max_length=30, min_length=10, do_sample=False)\n",
    "summary = tokenizer.decode(summary_ids[0], skip_special_tokens=True)\n",
    "print(summary)\n"
   ]
  },
  {
   "cell_type": "code",
   "execution_count": 43,
   "id": "3b763171",
   "metadata": {},
   "outputs": [
    {
     "data": {
      "application/vnd.jupyter.widget-view+json": {
       "model_id": "42bd8e760ddc400292de1d6e5d6c6509",
       "version_major": 2,
       "version_minor": 0
      },
      "text/plain": [
       "tokenizer_config.json:   0%|          | 0.00/366 [00:00<?, ?B/s]"
      ]
     },
     "metadata": {},
     "output_type": "display_data"
    },
    {
     "name": "stderr",
     "output_type": "stream",
     "text": [
      "c:\\Users\\SV937CY\\bias_1\\Lib\\site-packages\\huggingface_hub\\file_download.py:139: UserWarning: `huggingface_hub` cache-system uses symlinks by default to efficiently store duplicated files but your machine does not support them in C:\\Users\\SV937CY\\.cache\\huggingface\\hub\\models--BAAI--bge-small-en-v1.5. Caching files will still work but in a degraded version that might require more space on your disk. This warning can be disabled by setting the `HF_HUB_DISABLE_SYMLINKS_WARNING` environment variable. For more details, see https://huggingface.co/docs/huggingface_hub/how-to-cache#limitations.\n",
      "To support symlinks on Windows, you either need to activate Developer Mode or to run Python as an administrator. In order to activate developer mode, see this article: https://docs.microsoft.com/en-us/windows/apps/get-started/enable-your-device-for-development\n",
      "  warnings.warn(message)\n"
     ]
    },
    {
     "data": {
      "application/vnd.jupyter.widget-view+json": {
       "model_id": "fc839a1f79c946829e63cc99ea71a66c",
       "version_major": 2,
       "version_minor": 0
      },
      "text/plain": [
       "vocab.txt: 0.00B [00:00, ?B/s]"
      ]
     },
     "metadata": {},
     "output_type": "display_data"
    },
    {
     "data": {
      "application/vnd.jupyter.widget-view+json": {
       "model_id": "dadf0021a3584e57b07f3d32d0a5f5a0",
       "version_major": 2,
       "version_minor": 0
      },
      "text/plain": [
       "tokenizer.json: 0.00B [00:00, ?B/s]"
      ]
     },
     "metadata": {},
     "output_type": "display_data"
    },
    {
     "data": {
      "application/vnd.jupyter.widget-view+json": {
       "model_id": "facd073f51b04248a5d4edc62ab067a0",
       "version_major": 2,
       "version_minor": 0
      },
      "text/plain": [
       "special_tokens_map.json:   0%|          | 0.00/125 [00:00<?, ?B/s]"
      ]
     },
     "metadata": {},
     "output_type": "display_data"
    },
    {
     "data": {
      "application/vnd.jupyter.widget-view+json": {
       "model_id": "31fa37bd4f084b8a9ae9e1b91378b5c0",
       "version_major": 2,
       "version_minor": 0
      },
      "text/plain": [
       "config.json:   0%|          | 0.00/743 [00:00<?, ?B/s]"
      ]
     },
     "metadata": {},
     "output_type": "display_data"
    },
    {
     "data": {
      "application/vnd.jupyter.widget-view+json": {
       "model_id": "21635a276d444b608aa08a60ae8e2000",
       "version_major": 2,
       "version_minor": 0
      },
      "text/plain": [
       "model.safetensors:   0%|          | 0.00/133M [00:00<?, ?B/s]"
      ]
     },
     "metadata": {},
     "output_type": "display_data"
    },
    {
     "name": "stdout",
     "output_type": "stream",
     "text": [
      "torch.Size([1, 7, 384])\n"
     ]
    }
   ],
   "source": [
    "\n",
    "# ✅ 8. Feature Extraction\n",
    "from transformers import AutoTokenizer, AutoModel\n",
    "\n",
    "tokenizer = AutoTokenizer.from_pretrained(\"BAAI/bge-small-en-v1.5\")\n",
    "model = AutoModel.from_pretrained(\"BAAI/bge-small-en-v1.5\")\n",
    "\n",
    "text = \"Hugging Face is awesome!\"\n",
    "inputs = tokenizer(text, return_tensors=\"pt\")\n",
    "with torch.no_grad():\n",
    "    outputs = model(**inputs)\n",
    "    embeddings = outputs.last_hidden_state\n",
    "    print(embeddings.shape)\n",
    "\n"
   ]
  },
  {
   "cell_type": "code",
   "execution_count": 44,
   "id": "fcd35840",
   "metadata": {},
   "outputs": [
    {
     "name": "stderr",
     "output_type": "stream",
     "text": [
      "The attention mask and the pad token id were not set. As a consequence, you may observe unexpected behavior. Please pass your input's `attention_mask` to obtain reliable results.\n",
      "Setting `pad_token_id` to `eos_token_id`:None for open-end generation.\n",
      "The attention mask is not set and cannot be inferred from input because pad token is same as eos token. As a consequence, you may observe unexpected behavior. Please pass your input's `attention_mask` to obtain reliable results.\n"
     ]
    },
    {
     "name": "stdout",
     "output_type": "stream",
     "text": [
      "Once upon a time, the world was a place of great beauty and great danger. The world was a place of great danger, and the world was\n"
     ]
    }
   ],
   "source": [
    "# ✅ 9. Text Generation\n",
    "from transformers import AutoModelForCausalLM, AutoTokenizer\n",
    "\n",
    "model = AutoModelForCausalLM.from_pretrained(\"gpt2\")\n",
    "tokenizer = AutoTokenizer.from_pretrained(\"gpt2\")\n",
    "\n",
    "input_text = \"Once upon a time\"\n",
    "inputs = tokenizer(input_text, return_tensors=\"pt\")\n",
    "outputs = model.generate(inputs[\"input_ids\"], max_length=30)\n",
    "print(tokenizer.decode(outputs[0], skip_special_tokens=True))\n",
    "\n"
   ]
  },
  {
   "cell_type": "code",
   "execution_count": 46,
   "id": "a79646c0",
   "metadata": {},
   "outputs": [
    {
     "name": "stderr",
     "output_type": "stream",
     "text": [
      "You are using the default legacy behaviour of the <class 'transformers.models.t5.tokenization_t5.T5Tokenizer'>. This is expected, and simply means that the `legacy` (previous) behavior will be used so nothing changes for you. If you want to use the new behaviour, set `legacy=False`. This should only be set if you understand what it means, and thoroughly read the reason why this was added as explained in https://github.com/huggingface/transformers/pull/24565\n",
      "c:\\Users\\SV937CY\\bias_1\\Lib\\site-packages\\transformers\\generation\\utils.py:1220: UserWarning: Using the model-agnostic default `max_length` (=20) to control the generation length. We recommend setting `max_new_tokens` to control the maximum length of the generation.\n",
      "  warnings.warn(\n"
     ]
    },
    {
     "name": "stdout",
     "output_type": "stream",
     "text": [
      "Je vous aime\n"
     ]
    }
   ],
   "source": [
    "# ✅ 10. Text2Text Generation (T5)\n",
    "from transformers import T5Tokenizer, T5ForConditionalGeneration\n",
    "\n",
    "model = T5ForConditionalGeneration.from_pretrained(\"t5-small\")\n",
    "tokenizer = T5Tokenizer.from_pretrained(\"t5-small\")\n",
    "\n",
    "input_text = \"Translate English to French: I love you\"\n",
    "input_ids = tokenizer(input_text, return_tensors=\"pt\").input_ids\n",
    "output_ids = model.generate(input_ids)\n",
    "print(tokenizer.decode(output_ids[0], skip_special_tokens=True))\n",
    "\n"
   ]
  },
  {
   "cell_type": "code",
   "execution_count": 47,
   "id": "d9d334ed",
   "metadata": {},
   "outputs": [
    {
     "name": "stderr",
     "output_type": "stream",
     "text": [
      "BertForMaskedLM has generative capabilities, as `prepare_inputs_for_generation` is explicitly overwritten. However, it doesn't directly inherit from `GenerationMixin`. From 👉v4.50👈 onwards, `PreTrainedModel` will NOT inherit from `GenerationMixin`, and this model will lose the ability to call `generate` and other related functions.\n",
      "  - If you're using `trust_remote_code=True`, you can get rid of this warning by loading the model with an auto class. See https://huggingface.co/docs/transformers/en/model_doc/auto#auto-classes\n",
      "  - If you are the owner of the model architecture code, please modify your model class such that it inherits from `GenerationMixin` (after `PreTrainedModel`, otherwise you'll get an exception).\n",
      "  - If you are not the owner of the model architecture class, please contact the model code owner to update it.\n",
      "Some weights of the model checkpoint at bert-base-uncased were not used when initializing BertForMaskedLM: ['bert.pooler.dense.bias', 'bert.pooler.dense.weight', 'cls.seq_relationship.bias', 'cls.seq_relationship.weight']\n",
      "- This IS expected if you are initializing BertForMaskedLM from the checkpoint of a model trained on another task or with another architecture (e.g. initializing a BertForSequenceClassification model from a BertForPreTraining model).\n",
      "- This IS NOT expected if you are initializing BertForMaskedLM from the checkpoint of a model that you expect to be exactly identical (initializing a BertForSequenceClassification model from a BertForSequenceClassification model).\n"
     ]
    },
    {
     "name": "stdout",
     "output_type": "stream",
     "text": [
      "paris\n"
     ]
    }
   ],
   "source": [
    "# ✅ 11. Fill-Mask\n",
    "from transformers import BertTokenizer, BertForMaskedLM\n",
    "\n",
    "model = BertForMaskedLM.from_pretrained(\"bert-base-uncased\")\n",
    "tokenizer = BertTokenizer.from_pretrained(\"bert-base-uncased\")\n",
    "\n",
    "input_text = \"The capital of France is [MASK].\"\n",
    "inputs = tokenizer(input_text, return_tensors=\"pt\")\n",
    "with torch.no_grad():\n",
    "    outputs = model(**inputs).logits\n",
    "    mask_token_index = (inputs.input_ids == tokenizer.mask_token_id)[0].nonzero(as_tuple=True)[0]\n",
    "    predicted_token_id = outputs[0, mask_token_index].argmax(axis=-1)\n",
    "    print(tokenizer.decode(predicted_token_id))\n",
    "\n"
   ]
  },
  {
   "cell_type": "code",
   "execution_count": 48,
   "id": "7f06483a",
   "metadata": {},
   "outputs": [
    {
     "data": {
      "application/vnd.jupyter.widget-view+json": {
       "model_id": "1a6d923a8f3242ebaddd88a45560da20",
       "version_major": 2,
       "version_minor": 0
      },
      "text/plain": [
       "modules.json:   0%|          | 0.00/349 [00:00<?, ?B/s]"
      ]
     },
     "metadata": {},
     "output_type": "display_data"
    },
    {
     "name": "stderr",
     "output_type": "stream",
     "text": [
      "c:\\Users\\SV937CY\\bias_1\\Lib\\site-packages\\huggingface_hub\\file_download.py:139: UserWarning: `huggingface_hub` cache-system uses symlinks by default to efficiently store duplicated files but your machine does not support them in C:\\Users\\SV937CY\\.cache\\huggingface\\hub\\models--sentence-transformers--all-MiniLM-L6-v2. Caching files will still work but in a degraded version that might require more space on your disk. This warning can be disabled by setting the `HF_HUB_DISABLE_SYMLINKS_WARNING` environment variable. For more details, see https://huggingface.co/docs/huggingface_hub/how-to-cache#limitations.\n",
      "To support symlinks on Windows, you either need to activate Developer Mode or to run Python as an administrator. In order to activate developer mode, see this article: https://docs.microsoft.com/en-us/windows/apps/get-started/enable-your-device-for-development\n",
      "  warnings.warn(message)\n"
     ]
    },
    {
     "data": {
      "application/vnd.jupyter.widget-view+json": {
       "model_id": "da58e0cdad2140f8a2a499c3d52a0f2b",
       "version_major": 2,
       "version_minor": 0
      },
      "text/plain": [
       "config_sentence_transformers.json:   0%|          | 0.00/116 [00:00<?, ?B/s]"
      ]
     },
     "metadata": {},
     "output_type": "display_data"
    },
    {
     "data": {
      "application/vnd.jupyter.widget-view+json": {
       "model_id": "415188f3041a427b9ec6ff10b00e2faf",
       "version_major": 2,
       "version_minor": 0
      },
      "text/plain": [
       "README.md: 0.00B [00:00, ?B/s]"
      ]
     },
     "metadata": {},
     "output_type": "display_data"
    },
    {
     "data": {
      "application/vnd.jupyter.widget-view+json": {
       "model_id": "e49028013b8941fc8725e4f702f78894",
       "version_major": 2,
       "version_minor": 0
      },
      "text/plain": [
       "sentence_bert_config.json:   0%|          | 0.00/53.0 [00:00<?, ?B/s]"
      ]
     },
     "metadata": {},
     "output_type": "display_data"
    },
    {
     "data": {
      "application/vnd.jupyter.widget-view+json": {
       "model_id": "58b4ebd18ce845609035074f58675fe9",
       "version_major": 2,
       "version_minor": 0
      },
      "text/plain": [
       "config.json:   0%|          | 0.00/612 [00:00<?, ?B/s]"
      ]
     },
     "metadata": {},
     "output_type": "display_data"
    },
    {
     "data": {
      "application/vnd.jupyter.widget-view+json": {
       "model_id": "e6bc5649c7414cf1a9a0e42dff8eac0a",
       "version_major": 2,
       "version_minor": 0
      },
      "text/plain": [
       "model.safetensors:   0%|          | 0.00/90.9M [00:00<?, ?B/s]"
      ]
     },
     "metadata": {},
     "output_type": "display_data"
    },
    {
     "data": {
      "application/vnd.jupyter.widget-view+json": {
       "model_id": "7920d98c2f5f40ac8bb73396e17c071e",
       "version_major": 2,
       "version_minor": 0
      },
      "text/plain": [
       "tokenizer_config.json:   0%|          | 0.00/350 [00:00<?, ?B/s]"
      ]
     },
     "metadata": {},
     "output_type": "display_data"
    },
    {
     "data": {
      "application/vnd.jupyter.widget-view+json": {
       "model_id": "6456f8b44c124e92a9ae8ee494ae3f2f",
       "version_major": 2,
       "version_minor": 0
      },
      "text/plain": [
       "vocab.txt: 0.00B [00:00, ?B/s]"
      ]
     },
     "metadata": {},
     "output_type": "display_data"
    },
    {
     "data": {
      "application/vnd.jupyter.widget-view+json": {
       "model_id": "8d81ac5d255e4de183774c8680fff37d",
       "version_major": 2,
       "version_minor": 0
      },
      "text/plain": [
       "tokenizer.json: 0.00B [00:00, ?B/s]"
      ]
     },
     "metadata": {},
     "output_type": "display_data"
    },
    {
     "data": {
      "application/vnd.jupyter.widget-view+json": {
       "model_id": "9db3558221454b6b840444076259d8f2",
       "version_major": 2,
       "version_minor": 0
      },
      "text/plain": [
       "special_tokens_map.json:   0%|          | 0.00/112 [00:00<?, ?B/s]"
      ]
     },
     "metadata": {},
     "output_type": "display_data"
    },
    {
     "data": {
      "application/vnd.jupyter.widget-view+json": {
       "model_id": "691b8c37686646dcaf6e412ad673e214",
       "version_major": 2,
       "version_minor": 0
      },
      "text/plain": [
       "config.json:   0%|          | 0.00/190 [00:00<?, ?B/s]"
      ]
     },
     "metadata": {},
     "output_type": "display_data"
    },
    {
     "name": "stdout",
     "output_type": "stream",
     "text": [
      "Similarity: 0.5766932368278503\n"
     ]
    }
   ],
   "source": [
    "# ✅ 12. Sentence Similarity\n",
    "from sentence_transformers import SentenceTransformer, util\n",
    "\n",
    "model = SentenceTransformer(\"all-MiniLM-L6-v2\")\n",
    "sentences = [\"I like machine learning.\", \"I enjoy studying AI.\"]\n",
    "embeddings = model.encode(sentences, convert_to_tensor=True)\n",
    "score = util.pytorch_cos_sim(embeddings[0], embeddings[1])\n",
    "print(\"Similarity:\", score.item())\n",
    "\n"
   ]
  },
  {
   "cell_type": "code",
   "execution_count": 49,
   "id": "1e4abc5d",
   "metadata": {},
   "outputs": [
    {
     "data": {
      "application/vnd.jupyter.widget-view+json": {
       "model_id": "e26f0abfcc924330b0a26330fc3e272d",
       "version_major": 2,
       "version_minor": 0
      },
      "text/plain": [
       "tokenizer_config.json:   0%|          | 0.00/443 [00:00<?, ?B/s]"
      ]
     },
     "metadata": {},
     "output_type": "display_data"
    },
    {
     "name": "stderr",
     "output_type": "stream",
     "text": [
      "c:\\Users\\SV937CY\\bias_1\\Lib\\site-packages\\huggingface_hub\\file_download.py:139: UserWarning: `huggingface_hub` cache-system uses symlinks by default to efficiently store duplicated files but your machine does not support them in C:\\Users\\SV937CY\\.cache\\huggingface\\hub\\models--BAAI--bge-reranker-base. Caching files will still work but in a degraded version that might require more space on your disk. This warning can be disabled by setting the `HF_HUB_DISABLE_SYMLINKS_WARNING` environment variable. For more details, see https://huggingface.co/docs/huggingface_hub/how-to-cache#limitations.\n",
      "To support symlinks on Windows, you either need to activate Developer Mode or to run Python as an administrator. In order to activate developer mode, see this article: https://docs.microsoft.com/en-us/windows/apps/get-started/enable-your-device-for-development\n",
      "  warnings.warn(message)\n"
     ]
    },
    {
     "data": {
      "application/vnd.jupyter.widget-view+json": {
       "model_id": "5395cea666b14cbb83c5022289596815",
       "version_major": 2,
       "version_minor": 0
      },
      "text/plain": [
       "sentencepiece.bpe.model:   0%|          | 0.00/5.07M [00:00<?, ?B/s]"
      ]
     },
     "metadata": {},
     "output_type": "display_data"
    },
    {
     "data": {
      "application/vnd.jupyter.widget-view+json": {
       "model_id": "850e2692c2694d84813eb49574eb7548",
       "version_major": 2,
       "version_minor": 0
      },
      "text/plain": [
       "tokenizer.json:   0%|          | 0.00/17.1M [00:00<?, ?B/s]"
      ]
     },
     "metadata": {},
     "output_type": "display_data"
    },
    {
     "data": {
      "application/vnd.jupyter.widget-view+json": {
       "model_id": "295528782f0e4c108a418932b910ed63",
       "version_major": 2,
       "version_minor": 0
      },
      "text/plain": [
       "special_tokens_map.json:   0%|          | 0.00/279 [00:00<?, ?B/s]"
      ]
     },
     "metadata": {},
     "output_type": "display_data"
    },
    {
     "data": {
      "application/vnd.jupyter.widget-view+json": {
       "model_id": "db1d5007518b4c7d976500af40d78620",
       "version_major": 2,
       "version_minor": 0
      },
      "text/plain": [
       "config.json:   0%|          | 0.00/799 [00:00<?, ?B/s]"
      ]
     },
     "metadata": {},
     "output_type": "display_data"
    },
    {
     "data": {
      "application/vnd.jupyter.widget-view+json": {
       "model_id": "ed2cfd1949184a3f9ceab2ab812ab219",
       "version_major": 2,
       "version_minor": 0
      },
      "text/plain": [
       "model.safetensors:   0%|          | 0.00/1.11G [00:00<?, ?B/s]"
      ]
     },
     "metadata": {},
     "output_type": "display_data"
    },
    {
     "name": "stdout",
     "output_type": "stream",
     "text": [
      "0.980 → Water helps regulate body temperature.\n",
      "0.000 → Baking cookies requires flour and sugar.\n"
     ]
    }
   ],
   "source": [
    "# ✅ 13. Text Ranking\n",
    "from transformers import AutoTokenizer, AutoModelForSequenceClassification\n",
    "\n",
    "model_id = \"BAAI/bge-reranker-base\"\n",
    "tokenizer = AutoTokenizer.from_pretrained(model_id)\n",
    "model = AutoModelForSequenceClassification.from_pretrained(model_id)\n",
    "\n",
    "query = \"Benefits of drinking water\"\n",
    "docs = [\n",
    "    \"Water helps regulate body temperature.\",\n",
    "    \"Baking cookies requires flour and sugar.\"\n",
    "]\n",
    "\n",
    "scores = []\n",
    "for doc in docs:\n",
    "    inputs = tokenizer(query, doc, return_tensors=\"pt\", padding=True, truncation=True)\n",
    "    with torch.no_grad():\n",
    "        logits = model(**inputs).logits\n",
    "        score = torch.sigmoid(logits)[0].item()\n",
    "        scores.append(score)\n",
    "\n",
    "ranked = sorted(zip(docs, scores), key=lambda x: x[1], reverse=True)\n",
    "for doc, score in ranked:\n",
    "    print(f\"{score:.3f} → {doc}\")"
   ]
  }
 ],
 "metadata": {
  "kernelspec": {
   "display_name": "bias_1",
   "language": "python",
   "name": "python3"
  },
  "language_info": {
   "codemirror_mode": {
    "name": "ipython",
    "version": 3
   },
   "file_extension": ".py",
   "mimetype": "text/x-python",
   "name": "python",
   "nbconvert_exporter": "python",
   "pygments_lexer": "ipython3",
   "version": "3.11.9"
  }
 },
 "nbformat": 4,
 "nbformat_minor": 5
}
